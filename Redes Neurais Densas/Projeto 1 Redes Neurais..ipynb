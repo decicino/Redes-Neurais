{
 "cells": [
  {
   "cell_type": "markdown",
   "metadata": {},
   "source": [
    "## Douglas Decicino de Andrade\n",
    "\n",
    "### Nº USP: 10883512\n"
   ]
  },
  {
   "cell_type": "code",
   "execution_count": 1,
   "metadata": {},
   "outputs": [],
   "source": [
    "import pandas as pd\n",
    "from sklearn.neural_network import MLPClassifier\n",
    "import numpy as np\n",
    "import matplotlib.pyplot as plt\n",
    "from sklearn.metrics import roc_auc_score, accuracy_score\n",
    "from sklearn.neighbors import KNeighborsClassifier\n",
    "from sklearn.model_selection import GridSearchCV\n",
    "from sklearn.linear_model import SGDClassifier"
   ]
  },
  {
   "cell_type": "code",
   "execution_count": 2,
   "metadata": {},
   "outputs": [],
   "source": [
    "#Entrada dos dados\n",
    "train = pd.read_csv(\"train.csv\")\n",
    "test = pd.read_csv(\"test.csv\")"
   ]
  },
  {
   "cell_type": "code",
   "execution_count": 3,
   "metadata": {},
   "outputs": [
    {
     "name": "stdout",
     "output_type": "stream",
     "text": [
      "(142404, 29)\n",
      "(142403, 29)\n"
     ]
    }
   ],
   "source": [
    "#Avaliando dimensão dos dados.\n",
    "print(train.shape)\n",
    "print(test.shape)"
   ]
  },
  {
   "cell_type": "code",
   "execution_count": 4,
   "metadata": {},
   "outputs": [],
   "source": [
    "#Definindo o que é X_train, y_train, X_test e y_test\n",
    "X_train = train.iloc[:,0:-1]\n",
    "y_train = train.iloc[:,-1]\n",
    "\n",
    "X_test = test.iloc[:,0:-1]\n",
    "y_test = test.iloc[:,-1]"
   ]
  },
  {
   "cell_type": "markdown",
   "metadata": {},
   "source": [
    "# Questão 1"
   ]
  },
  {
   "cell_type": "markdown",
   "metadata": {},
   "source": [
    "### a)"
   ]
  },
  {
   "cell_type": "markdown",
   "metadata": {},
   "source": [
    "Vamos analisar se nossas classes estão balanceadas em relação a quantidade de observações para a variável resposta Class"
   ]
  },
  {
   "cell_type": "code",
   "execution_count": 4,
   "metadata": {},
   "outputs": [
    {
     "data": {
      "text/plain": [
       "0    142135\n",
       "1       269\n",
       "Name: Class, dtype: int64"
      ]
     },
     "execution_count": 4,
     "metadata": {},
     "output_type": "execute_result"
    }
   ],
   "source": [
    "train['Class'].value_counts()"
   ]
  },
  {
   "cell_type": "code",
   "execution_count": 5,
   "metadata": {},
   "outputs": [
    {
     "data": {
      "text/plain": [
       "0    142180\n",
       "1       223\n",
       "Name: Class, dtype: int64"
      ]
     },
     "execution_count": 5,
     "metadata": {},
     "output_type": "execute_result"
    }
   ],
   "source": [
    "test['Class'].value_counts()"
   ]
  },
  {
   "cell_type": "markdown",
   "metadata": {},
   "source": [
    "#### Podemos perceber um enorme desbalanceamento no conjunto de dados, onde o número de observações que são fraudes é bem menor do que o número de observações que não são fraudes. Portanto, a melhor métrica a ser utilizada para avaliação do modelo é  a AUC."
   ]
  },
  {
   "cell_type": "markdown",
   "metadata": {},
   "source": [
    "### b)"
   ]
  },
  {
   "cell_type": "markdown",
   "metadata": {},
   "source": [
    "Vamos realizar um estudo mais visual para tentarmos entender esse cenário de modelo aleatório, assim como outro cenários. Para isso, primeiramente vamos construir uma função que gera um vetor de predições baseados em uma determinada probabilidade de decisão, que irá definir qual será o valor mínimo da probabilidade gerada para falarmos que uma transação é fraude."
   ]
  },
  {
   "cell_type": "code",
   "execution_count": 5,
   "metadata": {},
   "outputs": [],
   "source": [
    "def modelo_aleatorio(prob):\n",
    "    y_pred = []\n",
    "    for i in (np.arange(0,len(y_train))):\n",
    "        u = np.random.uniform(0,1,1) #Gerando um número aleatório entre 0 e 1 com uma distribuição uniforme.\n",
    "        if u > prob: #Se esse número for maior que uma certa probabilidade, \n",
    "            y_pred.append(1) #Dizemos que uma observação é fraude\n",
    "        elif u < prob: #Se esse número não for maior que essa probabilidade,\n",
    "            y_pred.append(0) #Dizemos que uma observação não é fraude\n",
    "    return y_pred"
   ]
  },
  {
   "cell_type": "markdown",
   "metadata": {},
   "source": [
    "Agora vamos gerar diferentes cenários utilizando um looping, que vai variar essa minha probabilidade de decisão e guardar os valores de acurácia e AUC respectivos."
   ]
  },
  {
   "cell_type": "code",
   "execution_count": 6,
   "metadata": {},
   "outputs": [],
   "source": [
    "acc = []\n",
    "auc = []\n",
    "prob = []\n",
    "for i in (np.arange(0,1,0.01)):\n",
    "    y_pred = modelo_aleatorio(i)\n",
    "    prob.append(i)\n",
    "    auc.append(roc_auc_score(y_true = y_train, y_score = y_pred))\n",
    "    acc.append(accuracy_score(y_true = y_train, y_pred = y_pred))"
   ]
  },
  {
   "cell_type": "markdown",
   "metadata": {},
   "source": [
    "Após isso vamos montar um gráfico para ver como nossa AUC e nossa acurácia se sairam para os diferentes valores da probabilidade."
   ]
  },
  {
   "cell_type": "code",
   "execution_count": 7,
   "metadata": {},
   "outputs": [
    {
     "data": {
      "image/png": "[encoded data removed]",
      "text/plain": [
       "<Figure size 720x360 with 1 Axes>"
      ]
     },
     "metadata": {
      "needs_background": "light"
     },
     "output_type": "display_data"
    }
   ],
   "source": [
    "plt.figure(figsize=(10,5))\n",
    "plt.plot(prob, auc, '-ro', label= 'AUC')\n",
    "plt.plot(prob, acc, '-bo', label = 'Acurácia')\n",
    "plt.xlabel('Prob', fontsize = 15)\n",
    "plt.ylabel('Scores', fontsize = 15)\n",
    "plt.legend()\n",
    "plt.show()"
   ]
  },
  {
   "cell_type": "markdown",
   "metadata": {},
   "source": [
    "Temos que, respondendo a pergunta do item a), no caso de termos um modelo aleatório (quando a probabilidade de decisão é igual a 0.5), vamos obter acurácia e AUC aproximadamente iguais, variando muito pouco em torno de 0.5."
   ]
  },
  {
   "cell_type": "markdown",
   "metadata": {},
   "source": [
    "Porém, é interessante notar que, conforme aumentamos essa probabilidade de decisão, a acurária aumenta até ficar próximo de 1, enquanto que a AUC se mantém constante. Isso ocorre pelo fato de que temos um conjunto de dados muito desbalanceado. Conforme vamos aumetando a probabilidade de decisão, para valores maiores que 0.9, por exemplo, estamos obtendo observações da variável resposta fraude cada vez mais próximas da proporção \"real\" dos nossos dados, dizendo que mais de 90% das nossas observações não são fraude. E ao utilizarmos uma métrica como acurácia, que não leva em conta falso positivo e falso negativo, obtemos uma acurácia muito boa, porém que não nos diz a realidade sobre como nosso modelo está performando.\n",
    "\n",
    "Isso não acontece com a AUC, que acaba levando em conta também os falsos negativos e os falsos positivos, não alterando muito seus valores, independente da nossa probabilidade de decisão do que seria fraude ou não.\n",
    "\n",
    "De uma maneira simples, com um desbalanceamento de aproximadamente 0.0019, que é nosso caso, se chutarmos que todas as observações não são fraudes, teremos uma acurácia de 0.9981\n"
   ]
  },
  {
   "cell_type": "markdown",
   "metadata": {},
   "source": [
    "# Questão 2"
   ]
  },
  {
   "cell_type": "markdown",
   "metadata": {},
   "source": [
    "### a)"
   ]
  },
  {
   "cell_type": "markdown",
   "metadata": {},
   "source": [
    "# $\\alpha$ = 0"
   ]
  },
  {
   "cell_type": "code",
   "execution_count": 81,
   "metadata": {},
   "outputs": [],
   "source": [
    "model0 = MLPClassifier(\n",
    "    hidden_layer_sizes=(20,20,20,20,20),\n",
    "    activation = 'relu',\n",
    "    alpha=0.0,\n",
    "    random_state=42\n",
    ")"
   ]
  },
  {
   "cell_type": "code",
   "execution_count": 82,
   "metadata": {},
   "outputs": [
    {
     "data": {
      "text/plain": [
       "MLPClassifier(activation='relu', alpha=0.0, batch_size='auto', beta_1=0.9,\n",
       "              beta_2=0.999, early_stopping=False, epsilon=1e-08,\n",
       "              hidden_layer_sizes=(20, 20, 20, 20, 20), learning_rate='constant',\n",
       "              learning_rate_init=0.001, max_iter=200, momentum=0.9,\n",
       "              n_iter_no_change=10, nesterovs_momentum=True, power_t=0.5,\n",
       "              random_state=42, shuffle=True, solver='adam', tol=0.0001,\n",
       "              validation_fraction=0.1, verbose=False, warm_start=False)"
      ]
     },
     "execution_count": 82,
     "metadata": {},
     "output_type": "execute_result"
    }
   ],
   "source": [
    "model0.fit(X_train, y_train)"
   ]
  },
  {
   "cell_type": "code",
   "execution_count": 83,
   "metadata": {},
   "outputs": [
    {
     "name": "stdout",
     "output_type": "stream",
     "text": [
      "0.8913357475870606\n"
     ]
    }
   ],
   "source": [
    "y_pred = model0.predict(X_test)\n",
    "AUC = roc_auc_score(y_true = y_test, y_score = y_pred)\n",
    "print(AUC)"
   ]
  },
  {
   "cell_type": "markdown",
   "metadata": {},
   "source": [
    "# $\\alpha$ = 0.01"
   ]
  },
  {
   "cell_type": "code",
   "execution_count": 84,
   "metadata": {},
   "outputs": [],
   "source": [
    "model1 = MLPClassifier(\n",
    "    hidden_layer_sizes=(20,20,20,20,20),\n",
    "    activation = 'relu',\n",
    "    alpha=0.01,\n",
    "    random_state=42\n",
    ")"
   ]
  },
  {
   "cell_type": "code",
   "execution_count": 85,
   "metadata": {},
   "outputs": [
    {
     "data": {
      "text/plain": [
       "MLPClassifier(activation='relu', alpha=0.01, batch_size='auto', beta_1=0.9,\n",
       "              beta_2=0.999, early_stopping=False, epsilon=1e-08,\n",
       "              hidden_layer_sizes=(20, 20, 20, 20, 20), learning_rate='constant',\n",
       "              learning_rate_init=0.001, max_iter=200, momentum=0.9,\n",
       "              n_iter_no_change=10, nesterovs_momentum=True, power_t=0.5,\n",
       "              random_state=42, shuffle=True, solver='adam', tol=0.0001,\n",
       "              validation_fraction=0.1, verbose=False, warm_start=False)"
      ]
     },
     "execution_count": 85,
     "metadata": {},
     "output_type": "execute_result"
    }
   ],
   "source": [
    "model1.fit(X_train, y_train)"
   ]
  },
  {
   "cell_type": "code",
   "execution_count": 86,
   "metadata": {},
   "outputs": [
    {
     "name": "stdout",
     "output_type": "stream",
     "text": [
      "A área abaixo da curva ROC (AUC) é :  0.8896808788455485\n"
     ]
    }
   ],
   "source": [
    "y_pred = model1.predict(X_test)\n",
    "AUC = roc_auc_score(y_true = y_test, y_score = y_pred)\n",
    "print(\"A área abaixo da curva ROC (AUC) é : \",AUC)"
   ]
  },
  {
   "cell_type": "markdown",
   "metadata": {},
   "source": [
    "# $\\alpha$ = 0.1"
   ]
  },
  {
   "cell_type": "code",
   "execution_count": 87,
   "metadata": {},
   "outputs": [],
   "source": [
    "model2 = MLPClassifier(\n",
    "    hidden_layer_sizes=(20,20,20,20,20),\n",
    "    activation = 'relu',\n",
    "    alpha=0.1,\n",
    "    random_state=42\n",
    ")"
   ]
  },
  {
   "cell_type": "code",
   "execution_count": 88,
   "metadata": {},
   "outputs": [
    {
     "data": {
      "text/plain": [
       "MLPClassifier(activation='relu', alpha=0.1, batch_size='auto', beta_1=0.9,\n",
       "              beta_2=0.999, early_stopping=False, epsilon=1e-08,\n",
       "              hidden_layer_sizes=(20, 20, 20, 20, 20), learning_rate='constant',\n",
       "              learning_rate_init=0.001, max_iter=200, momentum=0.9,\n",
       "              n_iter_no_change=10, nesterovs_momentum=True, power_t=0.5,\n",
       "              random_state=42, shuffle=True, solver='adam', tol=0.0001,\n",
       "              validation_fraction=0.1, verbose=False, warm_start=False)"
      ]
     },
     "execution_count": 88,
     "metadata": {},
     "output_type": "execute_result"
    }
   ],
   "source": [
    "model2.fit(X_train, y_train)"
   ]
  },
  {
   "cell_type": "code",
   "execution_count": 89,
   "metadata": {},
   "outputs": [
    {
     "name": "stdout",
     "output_type": "stream",
     "text": [
      "A área abaixo da curva ROC (AUC) é :  0.8922043648328054\n"
     ]
    }
   ],
   "source": [
    "y_pred = model2.predict(X_test)\n",
    "AUC = roc_auc_score(y_true = y_test, y_score = y_pred)\n",
    "print(\"A área abaixo da curva ROC (AUC) é : \",AUC)"
   ]
  },
  {
   "cell_type": "markdown",
   "metadata": {},
   "source": [
    "# $\\alpha$ = 1"
   ]
  },
  {
   "cell_type": "code",
   "execution_count": 90,
   "metadata": {},
   "outputs": [],
   "source": [
    "model3 = MLPClassifier(\n",
    "    hidden_layer_sizes=(20,20,20,20,20),\n",
    "    activation = 'relu',\n",
    "    alpha=1,\n",
    "    random_state=42\n",
    ")"
   ]
  },
  {
   "cell_type": "code",
   "execution_count": 91,
   "metadata": {},
   "outputs": [
    {
     "data": {
      "text/plain": [
       "MLPClassifier(activation='relu', alpha=1, batch_size='auto', beta_1=0.9,\n",
       "              beta_2=0.999, early_stopping=False, epsilon=1e-08,\n",
       "              hidden_layer_sizes=(20, 20, 20, 20, 20), learning_rate='constant',\n",
       "              learning_rate_init=0.001, max_iter=200, momentum=0.9,\n",
       "              n_iter_no_change=10, nesterovs_momentum=True, power_t=0.5,\n",
       "              random_state=42, shuffle=True, solver='adam', tol=0.0001,\n",
       "              validation_fraction=0.1, verbose=False, warm_start=False)"
      ]
     },
     "execution_count": 91,
     "metadata": {},
     "output_type": "execute_result"
    }
   ],
   "source": [
    "model3.fit(X_train, y_train)"
   ]
  },
  {
   "cell_type": "code",
   "execution_count": 92,
   "metadata": {},
   "outputs": [
    {
     "name": "stdout",
     "output_type": "stream",
     "text": [
      "A área abaixo da curva ROC (AUC) é :  0.600896860986547\n"
     ]
    }
   ],
   "source": [
    "y_pred = model3.predict(X_test)\n",
    "AUC = roc_auc_score(y_true = y_test, y_score = y_pred)\n",
    "print(\"A área abaixo da curva ROC (AUC) é : \",AUC)"
   ]
  },
  {
   "cell_type": "markdown",
   "metadata": {},
   "source": [
    "# $\\alpha$ = 10"
   ]
  },
  {
   "cell_type": "code",
   "execution_count": 93,
   "metadata": {},
   "outputs": [],
   "source": [
    "model4 = MLPClassifier(\n",
    "    hidden_layer_sizes=(20,20,20,20,20),\n",
    "    activation = 'relu',\n",
    "    alpha=10,\n",
    "    random_state=42\n",
    ")"
   ]
  },
  {
   "cell_type": "code",
   "execution_count": 94,
   "metadata": {},
   "outputs": [
    {
     "data": {
      "text/plain": [
       "MLPClassifier(activation='relu', alpha=10, batch_size='auto', beta_1=0.9,\n",
       "              beta_2=0.999, early_stopping=False, epsilon=1e-08,\n",
       "              hidden_layer_sizes=(20, 20, 20, 20, 20), learning_rate='constant',\n",
       "              learning_rate_init=0.001, max_iter=200, momentum=0.9,\n",
       "              n_iter_no_change=10, nesterovs_momentum=True, power_t=0.5,\n",
       "              random_state=42, shuffle=True, solver='adam', tol=0.0001,\n",
       "              validation_fraction=0.1, verbose=False, warm_start=False)"
      ]
     },
     "execution_count": 94,
     "metadata": {},
     "output_type": "execute_result"
    }
   ],
   "source": [
    "model4.fit(X_train, y_train)"
   ]
  },
  {
   "cell_type": "code",
   "execution_count": 95,
   "metadata": {},
   "outputs": [
    {
     "name": "stdout",
     "output_type": "stream",
     "text": [
      "A área abaixo da curva ROC (AUC) é :  0.5\n"
     ]
    }
   ],
   "source": [
    "y_pred = model4.predict(X_test)\n",
    "AUC = roc_auc_score(y_true = y_test, y_score = y_pred)\n",
    "print(\"A área abaixo da curva ROC (AUC) é : \",AUC)"
   ]
  },
  {
   "cell_type": "markdown",
   "metadata": {},
   "source": [
    "#### Como podemos ver, para taxas de regularização 0.0, 0.01 e 0.1 o modelo não apresentou grandes diferenças em relação à métrica escolhida, porém, quando aumentamos muito a taxa de regularização, o modelo acaba perdendo muito poder, produzindo cada vez mais um resultado menos satisfatório."
   ]
  },
  {
   "cell_type": "markdown",
   "metadata": {},
   "source": [
    "# Questão 3"
   ]
  },
  {
   "cell_type": "markdown",
   "metadata": {},
   "source": [
    "#### GridSearch"
   ]
  },
  {
   "cell_type": "code",
   "execution_count": 5,
   "metadata": {},
   "outputs": [],
   "source": [
    "# Encontrando os melhores hiperparâmetros para o modelo KNN.\n",
    "parameters = {'n_neighbors': [3,5,7]}\n",
    "modelknn = KNeighborsClassifier()\n",
    "grid_search_cv = GridSearchCV(modelknn, param_grid = parameters, cv = 3 ,scoring='roc_auc',n_jobs = -1) #GridSearchCV usa validação cruzada\n",
    "result = grid_search_cv.fit(X_train, y_train)                                               #estratificada, o que é o certo \n",
    "best_model = result.best_estimator_                                                         #quando temos uma base desbalanceada"
   ]
  },
  {
   "cell_type": "code",
   "execution_count": 6,
   "metadata": {},
   "outputs": [
    {
     "name": "stdout",
     "output_type": "stream",
     "text": [
      "Melhor número de vizinhos: 7 \n",
      "\n"
     ]
    }
   ],
   "source": [
    "print('Melhor número de vizinhos:', best_model.n_neighbors, \"\\n\")"
   ]
  },
  {
   "cell_type": "code",
   "execution_count": 29,
   "metadata": {},
   "outputs": [],
   "source": [
    "# Encontrando os melhores hiperparâmetros para o modelo de Redes Neurais.\n",
    "parameters = {'hidden_layer_sizes': [(),(10),(5,5)]}\n",
    "modelnn = MLPClassifier()\n",
    "grid_search_cv = GridSearchCV(modelnn, param_grid = parameters, cv = 3 ,scoring='roc_auc',n_jobs = -1)\n",
    "result = grid_search_cv.fit(X_train, y_train)\n",
    "best_model = result.best_estimator_"
   ]
  },
  {
   "cell_type": "code",
   "execution_count": 32,
   "metadata": {},
   "outputs": [
    {
     "name": "stdout",
     "output_type": "stream",
     "text": [
      "Melhor número de parâmetros: 10 \n",
      "\n"
     ]
    }
   ],
   "source": [
    "print('Melhor número de parâmetros:', best_model.hidden_layer_sizes, \"\\n\")"
   ]
  },
  {
   "cell_type": "markdown",
   "metadata": {},
   "source": [
    "Ou seja, a melhor combinação de hiperparâmetros para o modelo de Redes Neurais é uma camada com 10 neurônios."
   ]
  },
  {
   "cell_type": "markdown",
   "metadata": {},
   "source": [
    "#### Comparando agora os dois modelos com os melhores hiperparâmetros no conjunto de teste."
   ]
  },
  {
   "cell_type": "markdown",
   "metadata": {},
   "source": [
    "##### Rede Neural"
   ]
  },
  {
   "cell_type": "code",
   "execution_count": 18,
   "metadata": {},
   "outputs": [],
   "source": [
    "best_NN_model = MLPClassifier(\n",
    "    hidden_layer_sizes=(10),\n",
    "    random_state=42)"
   ]
  },
  {
   "cell_type": "code",
   "execution_count": 19,
   "metadata": {},
   "outputs": [
    {
     "data": {
      "text/plain": [
       "MLPClassifier(activation='relu', alpha=0.0001, batch_size='auto', beta_1=0.9,\n",
       "              beta_2=0.999, early_stopping=False, epsilon=1e-08,\n",
       "              hidden_layer_sizes=10, learning_rate='constant',\n",
       "              learning_rate_init=0.001, max_iter=200, momentum=0.9,\n",
       "              n_iter_no_change=10, nesterovs_momentum=True, power_t=0.5,\n",
       "              random_state=42, shuffle=True, solver='adam', tol=0.0001,\n",
       "              validation_fraction=0.1, verbose=False, warm_start=False)"
      ]
     },
     "execution_count": 19,
     "metadata": {},
     "output_type": "execute_result"
    }
   ],
   "source": [
    "best_NN_model.fit(X_train, y_train)"
   ]
  },
  {
   "cell_type": "code",
   "execution_count": 30,
   "metadata": {},
   "outputs": [
    {
     "name": "stdout",
     "output_type": "stream",
     "text": [
      "Wall time: 34 ms\n"
     ]
    }
   ],
   "source": [
    "%%time\n",
    "y_pred_RN = best_NN_model.predict(X_test)"
   ]
  },
  {
   "cell_type": "code",
   "execution_count": 21,
   "metadata": {},
   "outputs": [
    {
     "name": "stdout",
     "output_type": "stream",
     "text": [
      "A área abaixo da curva ROC (AUC) é :  0.8829192547563343\n"
     ]
    }
   ],
   "source": [
    "AUC = roc_auc_score(y_true = y_test, y_score = y_pred)\n",
    "print(\"A área abaixo da curva ROC (AUC) é : \",AUC)"
   ]
  },
  {
   "cell_type": "markdown",
   "metadata": {},
   "source": [
    "##### KNN"
   ]
  },
  {
   "cell_type": "code",
   "execution_count": 16,
   "metadata": {},
   "outputs": [],
   "source": [
    "best_model_knn = KNeighborsClassifier(n_neighbors = 7)"
   ]
  },
  {
   "cell_type": "code",
   "execution_count": 17,
   "metadata": {},
   "outputs": [
    {
     "data": {
      "text/plain": [
       "KNeighborsClassifier(algorithm='auto', leaf_size=30, metric='minkowski',\n",
       "                     metric_params=None, n_jobs=None, n_neighbors=7, p=2,\n",
       "                     weights='uniform')"
      ]
     },
     "execution_count": 17,
     "metadata": {},
     "output_type": "execute_result"
    }
   ],
   "source": [
    "best_model_knn.fit(X_train, y_train)"
   ]
  },
  {
   "cell_type": "code",
   "execution_count": 13,
   "metadata": {},
   "outputs": [
    {
     "name": "stdout",
     "output_type": "stream",
     "text": [
      "Wall time: 15min 34s\n"
     ]
    }
   ],
   "source": [
    "%%time\n",
    "y_pred_KNN = best_model_knn.predict(X_test)"
   ]
  },
  {
   "cell_type": "code",
   "execution_count": 14,
   "metadata": {},
   "outputs": [
    {
     "name": "stdout",
     "output_type": "stream",
     "text": [
      "A área abaixo da curva ROC (AUC) é :  0.8562736586667441\n"
     ]
    }
   ],
   "source": [
    "AUC = roc_auc_score(y_true = y_test, y_score = y_pred)\n",
    "print(\"A área abaixo da curva ROC (AUC) é : \",AUC)"
   ]
  },
  {
   "cell_type": "markdown",
   "metadata": {},
   "source": [
    "# a) \n",
    "#### A técnica que obteve o melhor resultado foi a Rede Neural com uma AUC de 0.88"
   ]
  },
  {
   "cell_type": "markdown",
   "metadata": {},
   "source": [
    "# b)\n",
    "#### A técnica que mais demora para gerar as previsões nos dados de teste é a KNN, levando cerca de 15 minutos para gerar as predições do modelo."
   ]
  },
  {
   "cell_type": "markdown",
   "metadata": {},
   "source": [
    "# Questão 4"
   ]
  },
  {
   "cell_type": "markdown",
   "metadata": {},
   "source": [
    "#### Como podemos ver no item a) da questão 3, o melhor modelo de acordo com a métrica escolhida foi a Rede Neural, portanto, vamos utilizar ele para o calculo do lucro no conjunto de teste."
   ]
  },
  {
   "cell_type": "markdown",
   "metadata": {},
   "source": [
    "Abaixo temos o cálculo dos scores para o conjunto de teste."
   ]
  },
  {
   "cell_type": "code",
   "execution_count": 22,
   "metadata": {},
   "outputs": [],
   "source": [
    "scores = best_NN_model.predict_proba(X_test)"
   ]
  },
  {
   "cell_type": "markdown",
   "metadata": {},
   "source": [
    "As probabilidades de cada transação ser fraude são:"
   ]
  },
  {
   "cell_type": "code",
   "execution_count": 14,
   "metadata": {},
   "outputs": [
    {
     "data": {
      "text/plain": [
       "array([7.18291665e-05, 9.57513419e-01, 6.74452913e-05, ...,\n",
       "       4.63680061e-05, 2.22936579e-03, 5.62733958e-04])"
      ]
     },
     "execution_count": 14,
     "metadata": {},
     "output_type": "execute_result"
    }
   ],
   "source": [
    "scores[:,1]"
   ]
  },
  {
   "cell_type": "code",
   "execution_count": 35,
   "metadata": {},
   "outputs": [],
   "source": [
    "#Dataframe contendo os scores, o y predito e o y real.\n",
    "data = {'scores':  scores[:,1],\n",
    "        'y_pred': y_pred_RN,\n",
    "        'y_real': y_test}\n",
    "\n",
    "data = pd.DataFrame (data, columns = ['scores','y_pred','y_real'])"
   ]
  },
  {
   "cell_type": "markdown",
   "metadata": {},
   "source": [
    "Temos que o número respectivo à 1% dos scores de um total de 142403 scores é 1424.03, então, vamos arredondar para 1424 e realizar os cálculos."
   ]
  },
  {
   "cell_type": "code",
   "execution_count": 37,
   "metadata": {},
   "outputs": [],
   "source": [
    "#Dataframe com as 1424 observações respectivas aos top 1% scores\n",
    "dados_cenario = data.sort_values(by=['scores'], ascending=False).iloc[:1424,] "
   ]
  },
  {
   "cell_type": "code",
   "execution_count": 39,
   "metadata": {},
   "outputs": [],
   "source": [
    "dados_cenario.iloc[:,1] = 1 #Passando todos os valores de y predito para 1 (fraude)"
   ]
  },
  {
   "cell_type": "code",
   "execution_count": 41,
   "metadata": {},
   "outputs": [
    {
     "data": {
      "text/html": [
       "<div>\n",
       "<style scoped>\n",
       "    .dataframe tbody tr th:only-of-type {\n",
       "        vertical-align: middle;\n",
       "    }\n",
       "\n",
       "    .dataframe tbody tr th {\n",
       "        vertical-align: top;\n",
       "    }\n",
       "\n",
       "    .dataframe thead th {\n",
       "        text-align: right;\n",
       "    }\n",
       "</style>\n",
       "<table border=\"1\" class=\"dataframe\">\n",
       "  <thead>\n",
       "    <tr style=\"text-align: right;\">\n",
       "      <th></th>\n",
       "      <th>scores</th>\n",
       "      <th>y_pred</th>\n",
       "      <th>y_real</th>\n",
       "    </tr>\n",
       "  </thead>\n",
       "  <tbody>\n",
       "    <tr>\n",
       "      <td>101345</td>\n",
       "      <td>0.999996</td>\n",
       "      <td>1</td>\n",
       "      <td>1</td>\n",
       "    </tr>\n",
       "    <tr>\n",
       "      <td>101295</td>\n",
       "      <td>0.999995</td>\n",
       "      <td>1</td>\n",
       "      <td>1</td>\n",
       "    </tr>\n",
       "    <tr>\n",
       "      <td>101444</td>\n",
       "      <td>0.999992</td>\n",
       "      <td>1</td>\n",
       "      <td>1</td>\n",
       "    </tr>\n",
       "    <tr>\n",
       "      <td>11419</td>\n",
       "      <td>0.999992</td>\n",
       "      <td>1</td>\n",
       "      <td>1</td>\n",
       "    </tr>\n",
       "    <tr>\n",
       "      <td>101600</td>\n",
       "      <td>0.999985</td>\n",
       "      <td>1</td>\n",
       "      <td>1</td>\n",
       "    </tr>\n",
       "    <tr>\n",
       "      <td>...</td>\n",
       "      <td>...</td>\n",
       "      <td>...</td>\n",
       "      <td>...</td>\n",
       "    </tr>\n",
       "    <tr>\n",
       "      <td>134219</td>\n",
       "      <td>0.063977</td>\n",
       "      <td>1</td>\n",
       "      <td>0</td>\n",
       "    </tr>\n",
       "    <tr>\n",
       "      <td>139901</td>\n",
       "      <td>0.063918</td>\n",
       "      <td>1</td>\n",
       "      <td>0</td>\n",
       "    </tr>\n",
       "    <tr>\n",
       "      <td>84482</td>\n",
       "      <td>0.063902</td>\n",
       "      <td>1</td>\n",
       "      <td>0</td>\n",
       "    </tr>\n",
       "    <tr>\n",
       "      <td>15080</td>\n",
       "      <td>0.063855</td>\n",
       "      <td>1</td>\n",
       "      <td>0</td>\n",
       "    </tr>\n",
       "    <tr>\n",
       "      <td>22291</td>\n",
       "      <td>0.063821</td>\n",
       "      <td>1</td>\n",
       "      <td>0</td>\n",
       "    </tr>\n",
       "  </tbody>\n",
       "</table>\n",
       "<p>1424 rows × 3 columns</p>\n",
       "</div>"
      ],
      "text/plain": [
       "          scores  y_pred  y_real\n",
       "101345  0.999996       1       1\n",
       "101295  0.999995       1       1\n",
       "101444  0.999992       1       1\n",
       "11419   0.999992       1       1\n",
       "101600  0.999985       1       1\n",
       "...          ...     ...     ...\n",
       "134219  0.063977       1       0\n",
       "139901  0.063918       1       0\n",
       "84482   0.063902       1       0\n",
       "15080   0.063855       1       0\n",
       "22291   0.063821       1       0\n",
       "\n",
       "[1424 rows x 3 columns]"
      ]
     },
     "execution_count": 41,
     "metadata": {},
     "output_type": "execute_result"
    }
   ],
   "source": [
    "dados_cenario"
   ]
  },
  {
   "cell_type": "markdown",
   "metadata": {},
   "source": [
    "Vamos criar uma função genérica que calcula o lucro obtido para um determinado cenário"
   ]
  },
  {
   "cell_type": "code",
   "execution_count": 59,
   "metadata": {},
   "outputs": [],
   "source": [
    "def lucro(df):\n",
    "    lucro = 0\n",
    "    for index, row in dados_cenario.iterrows():\n",
    "            if (row['y_pred'] == 1 and row['y_real'] == 1): #Se o y predito for igual ao  real,\n",
    "                lucro = lucro + 100                         #temos um lucro de R$100\n",
    "                \n",
    "            elif (row['y_real'] == 0 and row['y_pred'] == 1): #Se o y real for 0 (não fraude) e o y predito for 1 (fraude),\n",
    "                lucro = lucro - 2                             #temos um prejuizo de R$2\n",
    "    print('O lucro obtido com o cenário fornecido é de: ', lucro,'R$')"
   ]
  },
  {
   "cell_type": "code",
   "execution_count": 60,
   "metadata": {},
   "outputs": [
    {
     "name": "stdout",
     "output_type": "stream",
     "text": [
      "O lucro obtido com o cenário fornecido é de:  16430 R$\n"
     ]
    }
   ],
   "source": [
    "lucro(dados_cenario)"
   ]
  },
  {
   "cell_type": "markdown",
   "metadata": {},
   "source": [
    "# Questão 5"
   ]
  },
  {
   "cell_type": "markdown",
   "metadata": {},
   "source": [
    "Vamos primeiramente encontrar qual a taxa de regularização irá produzir o melhor resultado para os nossos dados e, após isso, treinar o modelo utilizando esta taxa de regularização e analisar os pesos respectivos a cada feature. Lembrando que irei utilizar a regularização l1, que é a regularização que nos permite zerar os pesos para aquelas features \"não importantes\"."
   ]
  },
  {
   "cell_type": "code",
   "execution_count": 22,
   "metadata": {},
   "outputs": [],
   "source": [
    "# Encontrando os melhores hiperparâmetros para o modelo.\n",
    "parameters = {'alpha': [0.0001,0.0005,0.001,0.005,0.01,0.05,0.1,0.5,1,5,10,50]}\n",
    "modelSGD = SGDClassifier(loss='log', random_state=42, penalty= 'l1')\n",
    "grid_search_cv = GridSearchCV(modelSGD, param_grid = parameters, cv = 3 ,scoring='roc_auc',n_jobs = -1) #GridSearchCV usa validação cruzada\n",
    "result = grid_search_cv.fit(X_train, y_train)                                               #estratificada, o que é o certo \n",
    "best_model = result.best_estimator_                                                         #quando temos uma base desbalanceada"
   ]
  },
  {
   "cell_type": "code",
   "execution_count": 23,
   "metadata": {},
   "outputs": [
    {
     "name": "stdout",
     "output_type": "stream",
     "text": [
      "Melhor alpha: 0.01 \n",
      "\n"
     ]
    }
   ],
   "source": [
    "print('Melhor alpha:', best_model.alpha, \"\\n\")"
   ]
  },
  {
   "cell_type": "markdown",
   "metadata": {},
   "source": [
    "Vemos então que o parâmetro alpha de regularização que produz o melhor resultado com a métrica AUC é 0.01, agora vamos treinar o modelo com esse valor"
   ]
  },
  {
   "cell_type": "code",
   "execution_count": 26,
   "metadata": {},
   "outputs": [],
   "source": [
    "modelSGD = SGDClassifier(loss='log', random_state=42, penalty= 'l1',alpha = best_model.alpha)"
   ]
  },
  {
   "cell_type": "code",
   "execution_count": 27,
   "metadata": {},
   "outputs": [
    {
     "data": {
      "text/plain": [
       "SGDClassifier(alpha=0.01, average=False, class_weight=None,\n",
       "              early_stopping=False, epsilon=0.1, eta0=0.0, fit_intercept=True,\n",
       "              l1_ratio=0.15, learning_rate='optimal', loss='log', max_iter=1000,\n",
       "              n_iter_no_change=5, n_jobs=None, penalty='l1', power_t=0.5,\n",
       "              random_state=42, shuffle=True, tol=0.001, validation_fraction=0.1,\n",
       "              verbose=0, warm_start=False)"
      ]
     },
     "execution_count": 27,
     "metadata": {},
     "output_type": "execute_result"
    }
   ],
   "source": [
    "modelSGD.fit(X_train, y_train)"
   ]
  },
  {
   "cell_type": "code",
   "execution_count": 61,
   "metadata": {},
   "outputs": [],
   "source": [
    "variaveis = list(train.iloc[:,0:-1].columns) #Lista com o nome das nossas variáveis (features)."
   ]
  },
  {
   "cell_type": "code",
   "execution_count": 68,
   "metadata": {},
   "outputs": [],
   "source": [
    "pesos = np.array(modelSGD.coef_).tolist()[0] #Lista com pesos de cada variável."
   ]
  },
  {
   "cell_type": "markdown",
   "metadata": {},
   "source": [
    "Vamos agora criar um dataframe com uma coluna contendo as variáveis e outra coluna contendo os pesos respectivos a essas variáveis."
   ]
  },
  {
   "cell_type": "code",
   "execution_count": 74,
   "metadata": {},
   "outputs": [
    {
     "data": {
      "text/html": [
       "<div>\n",
       "<style scoped>\n",
       "    .dataframe tbody tr th:only-of-type {\n",
       "        vertical-align: middle;\n",
       "    }\n",
       "\n",
       "    .dataframe tbody tr th {\n",
       "        vertical-align: top;\n",
       "    }\n",
       "\n",
       "    .dataframe thead th {\n",
       "        text-align: right;\n",
       "    }\n",
       "</style>\n",
       "<table border=\"1\" class=\"dataframe\">\n",
       "  <thead>\n",
       "    <tr style=\"text-align: right;\">\n",
       "      <th></th>\n",
       "      <th>Variáveis</th>\n",
       "      <th>Pesos</th>\n",
       "    </tr>\n",
       "  </thead>\n",
       "  <tbody>\n",
       "    <tr>\n",
       "      <td>0</td>\n",
       "      <td>V1</td>\n",
       "      <td>26.146938</td>\n",
       "    </tr>\n",
       "    <tr>\n",
       "      <td>1</td>\n",
       "      <td>V2</td>\n",
       "      <td>23.836379</td>\n",
       "    </tr>\n",
       "    <tr>\n",
       "      <td>2</td>\n",
       "      <td>V3</td>\n",
       "      <td>-3.235134</td>\n",
       "    </tr>\n",
       "    <tr>\n",
       "      <td>3</td>\n",
       "      <td>V4</td>\n",
       "      <td>-1.580059</td>\n",
       "    </tr>\n",
       "    <tr>\n",
       "      <td>4</td>\n",
       "      <td>V5</td>\n",
       "      <td>-10.269293</td>\n",
       "    </tr>\n",
       "    <tr>\n",
       "      <td>5</td>\n",
       "      <td>V6</td>\n",
       "      <td>0.000000</td>\n",
       "    </tr>\n",
       "    <tr>\n",
       "      <td>6</td>\n",
       "      <td>V7</td>\n",
       "      <td>0.000000</td>\n",
       "    </tr>\n",
       "    <tr>\n",
       "      <td>7</td>\n",
       "      <td>V8</td>\n",
       "      <td>0.000000</td>\n",
       "    </tr>\n",
       "    <tr>\n",
       "      <td>8</td>\n",
       "      <td>V9</td>\n",
       "      <td>0.000000</td>\n",
       "    </tr>\n",
       "    <tr>\n",
       "      <td>9</td>\n",
       "      <td>V10</td>\n",
       "      <td>0.000000</td>\n",
       "    </tr>\n",
       "    <tr>\n",
       "      <td>10</td>\n",
       "      <td>V11</td>\n",
       "      <td>0.000000</td>\n",
       "    </tr>\n",
       "    <tr>\n",
       "      <td>11</td>\n",
       "      <td>V12</td>\n",
       "      <td>0.000000</td>\n",
       "    </tr>\n",
       "    <tr>\n",
       "      <td>12</td>\n",
       "      <td>V13</td>\n",
       "      <td>0.000000</td>\n",
       "    </tr>\n",
       "    <tr>\n",
       "      <td>13</td>\n",
       "      <td>V14</td>\n",
       "      <td>0.000000</td>\n",
       "    </tr>\n",
       "    <tr>\n",
       "      <td>14</td>\n",
       "      <td>V15</td>\n",
       "      <td>-2.460348</td>\n",
       "    </tr>\n",
       "    <tr>\n",
       "      <td>15</td>\n",
       "      <td>V16</td>\n",
       "      <td>0.000000</td>\n",
       "    </tr>\n",
       "    <tr>\n",
       "      <td>16</td>\n",
       "      <td>V17</td>\n",
       "      <td>-3.898798</td>\n",
       "    </tr>\n",
       "    <tr>\n",
       "      <td>17</td>\n",
       "      <td>V18</td>\n",
       "      <td>0.000000</td>\n",
       "    </tr>\n",
       "    <tr>\n",
       "      <td>18</td>\n",
       "      <td>V19</td>\n",
       "      <td>0.000000</td>\n",
       "    </tr>\n",
       "    <tr>\n",
       "      <td>19</td>\n",
       "      <td>V20</td>\n",
       "      <td>3.506943</td>\n",
       "    </tr>\n",
       "    <tr>\n",
       "      <td>20</td>\n",
       "      <td>V21</td>\n",
       "      <td>0.392628</td>\n",
       "    </tr>\n",
       "    <tr>\n",
       "      <td>21</td>\n",
       "      <td>V22</td>\n",
       "      <td>0.000000</td>\n",
       "    </tr>\n",
       "    <tr>\n",
       "      <td>22</td>\n",
       "      <td>V23</td>\n",
       "      <td>2.977898</td>\n",
       "    </tr>\n",
       "    <tr>\n",
       "      <td>23</td>\n",
       "      <td>V24</td>\n",
       "      <td>0.000000</td>\n",
       "    </tr>\n",
       "    <tr>\n",
       "      <td>24</td>\n",
       "      <td>V25</td>\n",
       "      <td>0.000000</td>\n",
       "    </tr>\n",
       "    <tr>\n",
       "      <td>25</td>\n",
       "      <td>V26</td>\n",
       "      <td>0.000000</td>\n",
       "    </tr>\n",
       "    <tr>\n",
       "      <td>26</td>\n",
       "      <td>V27</td>\n",
       "      <td>0.000000</td>\n",
       "    </tr>\n",
       "    <tr>\n",
       "      <td>27</td>\n",
       "      <td>V28</td>\n",
       "      <td>0.000000</td>\n",
       "    </tr>\n",
       "  </tbody>\n",
       "</table>\n",
       "</div>"
      ],
      "text/plain": [
       "   Variáveis      Pesos\n",
       "0         V1  26.146938\n",
       "1         V2  23.836379\n",
       "2         V3  -3.235134\n",
       "3         V4  -1.580059\n",
       "4         V5 -10.269293\n",
       "5         V6   0.000000\n",
       "6         V7   0.000000\n",
       "7         V8   0.000000\n",
       "8         V9   0.000000\n",
       "9        V10   0.000000\n",
       "10       V11   0.000000\n",
       "11       V12   0.000000\n",
       "12       V13   0.000000\n",
       "13       V14   0.000000\n",
       "14       V15  -2.460348\n",
       "15       V16   0.000000\n",
       "16       V17  -3.898798\n",
       "17       V18   0.000000\n",
       "18       V19   0.000000\n",
       "19       V20   3.506943\n",
       "20       V21   0.392628\n",
       "21       V22   0.000000\n",
       "22       V23   2.977898\n",
       "23       V24   0.000000\n",
       "24       V25   0.000000\n",
       "25       V26   0.000000\n",
       "26       V27   0.000000\n",
       "27       V28   0.000000"
      ]
     },
     "execution_count": 74,
     "metadata": {},
     "output_type": "execute_result"
    }
   ],
   "source": [
    "var_pesos = {'Variáveis':  variaveis,\n",
    "        'Pesos': pesos}\n",
    "\n",
    "var_pesos = pd.DataFrame (data, columns = ['Variáveis','Pesos'])\n",
    "var_pesos"
   ]
  },
  {
   "cell_type": "markdown",
   "metadata": {},
   "source": [
    "Agora vamos ver quais são as variáveis que possuem peso igual a 0. E essas serão as variáveis selecionadas como não importantes de acordo com os pesos, sendo assim,"
   ]
  },
  {
   "cell_type": "code",
   "execution_count": 79,
   "metadata": {},
   "outputs": [
    {
     "name": "stdout",
     "output_type": "stream",
     "text": [
      "As variáveis não importantes para o nosso modelo são: \n",
      "  5      V6\n",
      "6      V7\n",
      "7      V8\n",
      "8      V9\n",
      "9     V10\n",
      "10    V11\n",
      "11    V12\n",
      "12    V13\n",
      "13    V14\n",
      "15    V16\n",
      "17    V18\n",
      "18    V19\n",
      "21    V22\n",
      "23    V24\n",
      "24    V25\n",
      "25    V26\n",
      "26    V27\n",
      "27    V28\n",
      "Name: Variáveis, dtype: object\n"
     ]
    }
   ],
   "source": [
    "print('As variáveis não importantes para o nosso modelo são: \\n ',var_pesos.loc[var_pesos['Pesos']==0]['Variáveis'])"
   ]
  }
 ],
 "metadata": {
  "kernelspec": {
   "display_name": "Python 3",
   "language": "python",
   "name": "python3"
  },
  "language_info": {
   "codemirror_mode": {
    "name": "ipython",
    "version": 3
   },
   "file_extension": ".py",
   "mimetype": "text/x-python",
   "name": "python",
   "nbconvert_exporter": "python",
   "pygments_lexer": "ipython3",
   "version": "3.7.4"
  }
 },
 "nbformat": 4,
 "nbformat_minor": 2
}
