{
 "cells": [
  {
   "cell_type": "markdown",
   "metadata": {},
   "source": [
    "## Douglas Decicino de Andrade\n",
    "\n",
    "### Nº USP: 10883512\n",
    "\n",
    "### Projeto 2 Redes Neurais"
   ]
  },
  {
   "cell_type": "code",
   "execution_count": 116,
   "metadata": {},
   "outputs": [],
   "source": [
    "from keras.models import Sequential\n",
    "from keras.layers import Dense, Conv2D, MaxPooling2D, Flatten\n",
    "from keras.preprocessing import image\n",
    "from keras.datasets import cifar10\n",
    "import matplotlib.pyplot as plt\n",
    "import scipy.io as sio\n",
    "import numpy as np\n",
    "import pandas as pd\n",
    "import seaborn as sns\n",
    "from skimage.util import random_noise\n",
    "from keras.utils import to_categorical\n",
    "from sklearn.preprocessing import LabelBinarizer\n",
    "import keras"
   ]
  },
  {
   "cell_type": "markdown",
   "metadata": {},
   "source": [
    "# Questão 1 "
   ]
  },
  {
   "cell_type": "markdown",
   "metadata": {},
   "source": [
    "#### Vamos criar o modelo indicado no trabalho."
   ]
  },
  {
   "cell_type": "code",
   "execution_count": 2,
   "metadata": {},
   "outputs": [],
   "source": [
    "model = Sequential()\n",
    "model.add(Conv2D(16, kernel_size=(3, 3), activation='relu', input_shape=(32,32,3), padding='same'))\n",
    "model.add(MaxPooling2D(pool_size=(2, 2)))\n",
    "model.add(Conv2D(16, kernel_size=(3, 3), activation='relu', input_shape=(32,32,3), padding='same'))\n",
    "model.add(Conv2D(16, kernel_size=(3, 3), activation='relu', input_shape=(32,32,3), padding='same'))\n",
    "model.add(MaxPooling2D(pool_size=(2, 2)))\n",
    "model.add(Conv2D(32, kernel_size=(3, 3), activation='relu', input_shape=(33,32,3), padding='same'))\n",
    "model.add(Conv2D(32, kernel_size=(3, 3), activation='relu', input_shape=(32,32,3), padding='same'))\n",
    "model.add(MaxPooling2D(pool_size=(2, 2)))\n",
    "model.add(Flatten())\n",
    "model.add(Dense(10, activation='softmax'))"
   ]
  },
  {
   "cell_type": "code",
   "execution_count": 3,
   "metadata": {},
   "outputs": [
    {
     "name": "stdout",
     "output_type": "stream",
     "text": [
      "Model: \"sequential\"\n",
      "_________________________________________________________________\n",
      "Layer (type)                 Output Shape              Param #   \n",
      "=================================================================\n",
      "conv2d (Conv2D)              (None, 32, 32, 16)        448       \n",
      "_________________________________________________________________\n",
      "max_pooling2d (MaxPooling2D) (None, 16, 16, 16)        0         \n",
      "_________________________________________________________________\n",
      "conv2d_1 (Conv2D)            (None, 16, 16, 16)        2320      \n",
      "_________________________________________________________________\n",
      "conv2d_2 (Conv2D)            (None, 16, 16, 16)        2320      \n",
      "_________________________________________________________________\n",
      "max_pooling2d_1 (MaxPooling2 (None, 8, 8, 16)          0         \n",
      "_________________________________________________________________\n",
      "conv2d_3 (Conv2D)            (None, 8, 8, 32)          4640      \n",
      "_________________________________________________________________\n",
      "conv2d_4 (Conv2D)            (None, 8, 8, 32)          9248      \n",
      "_________________________________________________________________\n",
      "max_pooling2d_2 (MaxPooling2 (None, 4, 4, 32)          0         \n",
      "_________________________________________________________________\n",
      "flatten (Flatten)            (None, 512)               0         \n",
      "_________________________________________________________________\n",
      "dense (Dense)                (None, 10)                5130      \n",
      "=================================================================\n",
      "Total params: 24,106\n",
      "Trainable params: 24,106\n",
      "Non-trainable params: 0\n",
      "_________________________________________________________________\n"
     ]
    }
   ],
   "source": [
    "model.summary()"
   ]
  },
  {
   "cell_type": "markdown",
   "metadata": {},
   "source": [
    "# Questão 2"
   ]
  },
  {
   "cell_type": "markdown",
   "metadata": {},
   "source": [
    "Carregando a base  CIFAR-10 "
   ]
  },
  {
   "cell_type": "code",
   "execution_count": 89,
   "metadata": {},
   "outputs": [],
   "source": [
    "(X_train_CIF, y_train_CIF), (X_test_CIF, y_test_CIF) = cifar10.load_data()"
   ]
  },
  {
   "cell_type": "markdown",
   "metadata": {},
   "source": [
    "Carregando a base SVHN"
   ]
  },
  {
   "cell_type": "code",
   "execution_count": 90,
   "metadata": {},
   "outputs": [],
   "source": [
    "train = sio.loadmat('train_32x32.mat')\n",
    "test = sio.loadmat('test_32x32')"
   ]
  },
  {
   "cell_type": "markdown",
   "metadata": {},
   "source": [
    "Agora vamos separar a base SVHN"
   ]
  },
  {
   "cell_type": "code",
   "execution_count": 91,
   "metadata": {},
   "outputs": [],
   "source": [
    "X_train_SVHN = train['X']\n",
    "y_train_SVHN = train['y']\n",
    "X_test_SVHN = test['X']\n",
    "y_test_SVHN = test['y']"
   ]
  },
  {
   "cell_type": "markdown",
   "metadata": {},
   "source": [
    "Vamos ver como estão as dimensões das nossas bases"
   ]
  },
  {
   "cell_type": "code",
   "execution_count": 73,
   "metadata": {},
   "outputs": [
    {
     "data": {
      "text/plain": [
       "((50000, 32, 32, 3), (50000, 1), (10000, 32, 32, 3), (10000, 1))"
      ]
     },
     "execution_count": 73,
     "metadata": {},
     "output_type": "execute_result"
    }
   ],
   "source": [
    "#Base CIFAR-10\n",
    "((X_train_CIF.shape),(y_train_CIF.shape),(X_test_CIF.shape),(y_test_CIF.shape))"
   ]
  },
  {
   "cell_type": "code",
   "execution_count": 74,
   "metadata": {},
   "outputs": [
    {
     "data": {
      "text/plain": [
       "((32, 32, 3, 73257), (73257, 1), (32, 32, 3, 26032), (26032, 1))"
      ]
     },
     "execution_count": 74,
     "metadata": {},
     "output_type": "execute_result"
    }
   ],
   "source": [
    "#Base SVHN\n",
    "((X_train_SVHN.shape),(y_train_SVHN.shape),(X_test_SVHN.shape),(y_test_SVHN.shape))"
   ]
  },
  {
   "cell_type": "markdown",
   "metadata": {},
   "source": [
    "### a) Ao carregar a base de dados CIFAR-10 você irá notar que y_train e y_test têm duas dimensões. Transforme eles em vetores."
   ]
  },
  {
   "cell_type": "code",
   "execution_count": 92,
   "metadata": {},
   "outputs": [
    {
     "data": {
      "text/plain": [
       "(50000,)"
      ]
     },
     "execution_count": 92,
     "metadata": {},
     "output_type": "execute_result"
    }
   ],
   "source": [
    "y_train_CIF = y_train_CIF[:,0]\n",
    "y_train_CIF.shape"
   ]
  },
  {
   "cell_type": "code",
   "execution_count": 93,
   "metadata": {},
   "outputs": [
    {
     "data": {
      "text/plain": [
       "(10000,)"
      ]
     },
     "execution_count": 93,
     "metadata": {},
     "output_type": "execute_result"
    }
   ],
   "source": [
    "y_test_CIF = y_test_CIF[:,0]\n",
    "y_test_CIF.shape"
   ]
  },
  {
   "cell_type": "markdown",
   "metadata": {},
   "source": [
    "Agora vamos transformar as imagens e as classes para formatos que consomem menos RAM."
   ]
  },
  {
   "cell_type": "code",
   "execution_count": 22,
   "metadata": {},
   "outputs": [],
   "source": [
    "# X_train_CIF = np.float16(X_train_CIF)\n",
    "# X_test_CIF = np.float16(X_test_CIF)\n",
    "# y_train_CIF = y_train_CIF.astype(np.uint8)\n",
    "# y_test_CIF = y_test_CIF.astype(np.uint8)"
   ]
  },
  {
   "cell_type": "markdown",
   "metadata": {},
   "source": [
    "### b) Ao carregar a base de dados SVHN, e entender sua estrutura, você irá notar que X_train e X_test estão com as dimensões em uma ordem diferente da que usamos na aula (e que o Keras usa por padrão). Transforme tais arrayspara ter a ordem que normalmente usamos (id da imagem, linhas, colunas e canais)"
   ]
  },
  {
   "cell_type": "code",
   "execution_count": 94,
   "metadata": {},
   "outputs": [
    {
     "data": {
      "text/plain": [
       "(73257, 32, 32, 3)"
      ]
     },
     "execution_count": 94,
     "metadata": {},
     "output_type": "execute_result"
    }
   ],
   "source": [
    "X_train_SVHN = np.moveaxis(X_train_SVHN, -1, 0)\n",
    "X_train_SVHN.shape"
   ]
  },
  {
   "cell_type": "code",
   "execution_count": 95,
   "metadata": {},
   "outputs": [
    {
     "data": {
      "text/plain": [
       "(26032, 32, 32, 3)"
      ]
     },
     "execution_count": 95,
     "metadata": {},
     "output_type": "execute_result"
    }
   ],
   "source": [
    "X_test_SVHN = np.moveaxis(X_test_SVHN, -1, 0)\n",
    "X_test_SVHN.shape"
   ]
  },
  {
   "cell_type": "markdown",
   "metadata": {},
   "source": [
    "Como podemos ver agora sim os arrays estão na ordem que precisamos"
   ]
  },
  {
   "cell_type": "markdown",
   "metadata": {},
   "source": [
    "Agora vamos transformar as imagens e as classes para formatos que consomem menos RAM."
   ]
  },
  {
   "cell_type": "code",
   "execution_count": 25,
   "metadata": {},
   "outputs": [],
   "source": [
    "# X_train_SVHN = np.float16(X_train_SVHN)\n",
    "# X_test_SVHN = np.float16(X_test_SVHN)\n",
    "# y_train_SVHN = y_train_SVHN.astype(np.uint8)\n",
    "# y_test_SVHN = y_test_SVHN.astype(np.uint8)"
   ]
  },
  {
   "cell_type": "markdown",
   "metadata": {},
   "source": [
    "### c) Transforme o valor dos pixels das imagens para o intervalo [0; 1]"
   ]
  },
  {
   "cell_type": "code",
   "execution_count": 96,
   "metadata": {},
   "outputs": [],
   "source": [
    "#SVHN\n",
    "X_train_SVHN = X_train_SVHN/255.0\n",
    "X_test_SVHN = X_test_SVHN/255.0\n",
    "\n",
    "#CIFAR-10\n",
    "X_train_CIF = X_train_CIF/255.0\n",
    "X_test_CIF = X_test_CIF/255.0"
   ]
  },
  {
   "cell_type": "code",
   "execution_count": 27,
   "metadata": {},
   "outputs": [
    {
     "data": {
      "text/plain": [
       "(0.0, 1.0, 0.0, 1.0, 0.0, 1.0, 0.0, 1.0)"
      ]
     },
     "execution_count": 27,
     "metadata": {},
     "output_type": "execute_result"
    }
   ],
   "source": [
    "#Checando se os dados foram normalizados.\n",
    "(X_train_SVHN.min(),X_train_SVHN.max(),X_train_CIF.min(),X_train_CIF.max(),X_test_SVHN.min(),X_test_SVHN.max(),X_test_CIF.min(),X_test_CIF.max())"
   ]
  },
  {
   "cell_type": "markdown",
   "metadata": {},
   "source": [
    "### d) Para cada uma das duas bases, compute:\n",
    "\n"
   ]
  },
  {
   "cell_type": "markdown",
   "metadata": {},
   "source": [
    "#### ● Quantidade de imagens de treino e teste"
   ]
  },
  {
   "cell_type": "code",
   "execution_count": 81,
   "metadata": {},
   "outputs": [
    {
     "name": "stdout",
     "output_type": "stream",
     "text": [
      "A quantidade de imagens para ao conjunto de treino da base CIFAR-10 é:  50000\n",
      "A quantidade de imagens para ao conjunto de teste da base CIFAR-10 é:  10000\n",
      "A quantidade de imagens para ao conjunto de treino da base SVHN é:  73257\n",
      "A quantidade de imagens para ao conjunto de teste da base SVHN é:  26032\n"
     ]
    }
   ],
   "source": [
    "#Quantidade de imagens de treino e teste\n",
    "print(\"A quantidade de imagens para ao conjunto de treino da base CIFAR-10 é: \", y_train_CIF.shape[0])\n",
    "print(\"A quantidade de imagens para ao conjunto de teste da base CIFAR-10 é: \", y_test_CIF.shape[0])\n",
    "print(\"A quantidade de imagens para ao conjunto de treino da base SVHN é: \", y_train_SVHN.shape[0])\n",
    "print(\"A quantidade de imagens para ao conjunto de teste da base SVHN é: \", y_test_SVHN.shape[0])"
   ]
  },
  {
   "cell_type": "markdown",
   "metadata": {},
   "source": [
    "#### ● Tamanho (número de linhas, colunas e canais) das imagens"
   ]
  },
  {
   "cell_type": "code",
   "execution_count": 41,
   "metadata": {},
   "outputs": [
    {
     "name": "stdout",
     "output_type": "stream",
     "text": [
      "O número de linhas das imagens da base CIFAR-10 é:  32 \n",
      " O número de colunas das imagens da base CIFAR-10 é:  32 \n",
      " O número de canais  das imagens da base CIFAR-10 é:  3\n"
     ]
    }
   ],
   "source": [
    "print('O número de linhas das imagens da base CIFAR-10 é: ', X_train_CIF.shape[1], '\\n O número de colunas das imagens da base CIFAR-10 é: ', X_train_CIF.shape[2] ,'\\n O número de canais  das imagens da base CIFAR-10 é: ',X_train_CIF.shape[3] )"
   ]
  },
  {
   "cell_type": "code",
   "execution_count": 43,
   "metadata": {},
   "outputs": [
    {
     "name": "stdout",
     "output_type": "stream",
     "text": [
      "O número de linhas das imagens da base SVHN é:  32 \n",
      " O número de colunas das imagens da base SVHN é:  32 \n",
      " O número de canais  das imagens da base SVHN é:  3\n"
     ]
    }
   ],
   "source": [
    "print('O número de linhas das imagens da base SVHN é: ', X_train_SVHN.shape[1], '\\n O número de colunas das imagens da base SVHN é: ', X_train_SVHN.shape[2] ,'\\n O número de canais  das imagens da base SVHN é: ',X_train_SVHN.shape[3] )"
   ]
  },
  {
   "cell_type": "markdown",
   "metadata": {},
   "source": [
    "##### ● Distribuição das classes"
   ]
  },
  {
   "cell_type": "markdown",
   "metadata": {},
   "source": [
    "Vou passar os vetores das variáveis respostas de ambas as bases para um Pandas Series"
   ]
  },
  {
   "cell_type": "code",
   "execution_count": 60,
   "metadata": {},
   "outputs": [],
   "source": [
    "y_train_CIF_pd = pd.Series(y_train_CIF)\n",
    "y_test_CIF_pd = pd.Series(y_test_CIF)\n",
    "y_train_SVHN_pd = pd.Series(y_train_SVHN[:,0])\n",
    "y_test_SVHN_pd = pd.Series(y_test_SVHN[:,0])"
   ]
  },
  {
   "cell_type": "markdown",
   "metadata": {},
   "source": [
    "Vamos agora ver como as classes da base CIFAR-10 estão distribuidas no nosso conjunto de treino e teste."
   ]
  },
  {
   "cell_type": "code",
   "execution_count": 58,
   "metadata": {},
   "outputs": [
    {
     "data": {
      "text/plain": [
       "<matplotlib.axes._subplots.AxesSubplot at 0x2848daefc88>"
      ]
     },
     "execution_count": 58,
     "metadata": {},
     "output_type": "execute_result"
    },
    {
     "data": {
      "image/png": "[encoded data removed]",
      "text/plain": [
       "<Figure size 432x288 with 1 Axes>"
      ]
     },
     "metadata": {
      "needs_background": "light"
     },
     "output_type": "display_data"
    }
   ],
   "source": [
    "sns.countplot(y_train_CIF_pd)"
   ]
  },
  {
   "cell_type": "code",
   "execution_count": 61,
   "metadata": {},
   "outputs": [
    {
     "data": {
      "text/plain": [
       "<matplotlib.axes._subplots.AxesSubplot at 0x2848dcef1c8>"
      ]
     },
     "execution_count": 61,
     "metadata": {},
     "output_type": "execute_result"
    },
    {
     "data": {
      "image/png": "[encoded data removed]",
      "text/plain": [
       "<Figure size 432x288 with 1 Axes>"
      ]
     },
     "metadata": {
      "needs_background": "light"
     },
     "output_type": "display_data"
    }
   ],
   "source": [
    "sns.countplot(y_test_CIF_pd)"
   ]
  },
  {
   "cell_type": "markdown",
   "metadata": {},
   "source": [
    "Como podemos ver, a base CIFAR-10 é perfeitamente balanceada em ambos os conjuntos, possuindo 5 mil observações para cada classe no conjunto de treino e 1000 para cada classe no conjunto de teste."
   ]
  },
  {
   "cell_type": "markdown",
   "metadata": {},
   "source": [
    "Vamos agora ver como as classes da base SVHN estão distribuidas no nosso conjunto de treino e teste."
   ]
  },
  {
   "cell_type": "code",
   "execution_count": 63,
   "metadata": {},
   "outputs": [
    {
     "data": {
      "text/plain": [
       "<matplotlib.axes._subplots.AxesSubplot at 0x2848dc3f708>"
      ]
     },
     "execution_count": 63,
     "metadata": {},
     "output_type": "execute_result"
    },
    {
     "data": {
      "image/png": "[encoded data removed]",
      "text/plain": [
       "<Figure size 432x288 with 1 Axes>"
      ]
     },
     "metadata": {
      "needs_background": "light"
     },
     "output_type": "display_data"
    }
   ],
   "source": [
    "sns.countplot(y_train_SVHN_pd)"
   ]
  },
  {
   "cell_type": "code",
   "execution_count": 62,
   "metadata": {},
   "outputs": [
    {
     "data": {
      "text/plain": [
       "<matplotlib.axes._subplots.AxesSubplot at 0x2848dd9aa08>"
      ]
     },
     "execution_count": 62,
     "metadata": {},
     "output_type": "execute_result"
    },
    {
     "data": {
      "image/png": "[encoded data removed]",
      "text/plain": [
       "<Figure size 432x288 with 1 Axes>"
      ]
     },
     "metadata": {
      "needs_background": "light"
     },
     "output_type": "display_data"
    }
   ],
   "source": [
    "sns.countplot(y_test_SVHN_pd)"
   ]
  },
  {
   "cell_type": "markdown",
   "metadata": {},
   "source": [
    "Como podemos ver, a base SVHN é desbalanceada em relação ao número de observações de cada classe, possuindo 5 mil observações para a classe 1 e menos de 2 mil para outras classes."
   ]
  },
  {
   "cell_type": "markdown",
   "metadata": {},
   "source": [
    "# Questão 3"
   ]
  },
  {
   "cell_type": "markdown",
   "metadata": {},
   "source": [
    "### a) Gerar versões das duas bases de dados afetadas por ruído gaussiano com variâncias de 0.001 e 0.01, respectivamente"
   ]
  },
  {
   "cell_type": "markdown",
   "metadata": {},
   "source": [
    "Vamos então gerar um novo conjunto de imagens de treino com ruidos para ambas as nossas bases"
   ]
  },
  {
   "cell_type": "markdown",
   "metadata": {},
   "source": [
    "* 0.001 "
   ]
  },
  {
   "cell_type": "code",
   "execution_count": 36,
   "metadata": {},
   "outputs": [],
   "source": [
    "#Base CIFAR-10\n",
    "X_train_CIF_RN_0001 = np.zeros((len(X_train_CIF), 32, 32, 3))\n",
    "for i in (np.arange(0,len(X_train_CIF))):\n",
    "    X_train_CIF_RN_0001[i, :, :] = random_noise(X_train_CIF[i, :, :], mode='gaussian', var=0.001)\n",
    "    \n",
    "#Base SVHN\n",
    "X_train_SVHN_RN_0001 = np.zeros((len(X_train_SVHN), 32, 32, 3))\n",
    "for i in (np.arange(0,len(X_train_SVHN))):\n",
    "    X_train_SVHN_RN_0001[i, :, :] = random_noise(X_train_SVHN[i, :, :], mode='gaussian', var=0.001)"
   ]
  },
  {
   "cell_type": "markdown",
   "metadata": {},
   "source": [
    "* 0.01 "
   ]
  },
  {
   "cell_type": "code",
   "execution_count": 37,
   "metadata": {},
   "outputs": [],
   "source": [
    "#Base CIFAR-10\n",
    "X_train_CIF_RN_001 = np.zeros((len(X_train_CIF), 32, 32, 3))\n",
    "for i in (np.arange(0,len(X_train_CIF))):\n",
    "    X_train_CIF_RN_001[i, :, :] = random_noise(X_train_CIF[i, :, :], mode='gaussian', var=0.01)\n",
    "    \n",
    "#Base SVHN\n",
    "X_train_SVHN_RN_001 = np.zeros((len(X_train_SVHN), 32, 32, 3))\n",
    "for i in (np.arange(0,len(X_train_SVHN))):\n",
    "    X_train_SVHN_RN_001[i, :, :] = random_noise(X_train_SVHN[i, :, :], mode='gaussian', var=0.01)"
   ]
  },
  {
   "cell_type": "markdown",
   "metadata": {},
   "source": [
    "### b) Mostrar uma imagem de cada uma das classes em 3 versões (original, Gauss 0.001 e Gauss 0.01). Isso deve ser feito para as duas bases (CIFAR-10 e SVHN)."
   ]
  },
  {
   "cell_type": "markdown",
   "metadata": {},
   "source": [
    "Primeiramente vou juntar o array das classes com o array das imagens para podermos selecionar as imagens por classe."
   ]
  },
  {
   "cell_type": "code",
   "execution_count": 176,
   "metadata": {},
   "outputs": [],
   "source": [
    "SVHN_RN_001 = X_train_SVHN_RN_001 "
   ]
  },
  {
   "cell_type": "code",
   "execution_count": 179,
   "metadata": {},
   "outputs": [],
   "source": [
    "SVHN_RN_001 = SVHN_RN_001"
   ]
  },
  {
   "cell_type": "code",
   "execution_count": 82,
   "metadata": {},
   "outputs": [
    {
     "data": {
      "text/plain": [
       "array([[1],\n",
       "       [9],\n",
       "       [2],\n",
       "       ...,\n",
       "       [1],\n",
       "       [6],\n",
       "       [9]], dtype=uint8)"
      ]
     },
     "execution_count": 82,
     "metadata": {},
     "output_type": "execute_result"
    }
   ],
   "source": [
    " y_train_SVHN"
   ]
  },
  {
   "cell_type": "code",
   "execution_count": 121,
   "metadata": {},
   "outputs": [
    {
     "data": {
      "text/plain": [
       "array([[[0.23137255, 0.24313725, 0.24705882],\n",
       "        [0.16862745, 0.18039216, 0.17647059],\n",
       "        [0.19607843, 0.18823529, 0.16862745],\n",
       "        ...,\n",
       "        [0.61960784, 0.51764706, 0.42352941],\n",
       "        [0.59607843, 0.49019608, 0.4       ],\n",
       "        [0.58039216, 0.48627451, 0.40392157]],\n",
       "\n",
       "       [[0.0627451 , 0.07843137, 0.07843137],\n",
       "        [0.        , 0.        , 0.        ],\n",
       "        [0.07058824, 0.03137255, 0.        ],\n",
       "        ...,\n",
       "        [0.48235294, 0.34509804, 0.21568627],\n",
       "        [0.46666667, 0.3254902 , 0.19607843],\n",
       "        [0.47843137, 0.34117647, 0.22352941]],\n",
       "\n",
       "       [[0.09803922, 0.09411765, 0.08235294],\n",
       "        [0.0627451 , 0.02745098, 0.        ],\n",
       "        [0.19215686, 0.10588235, 0.03137255],\n",
       "        ...,\n",
       "        [0.4627451 , 0.32941176, 0.19607843],\n",
       "        [0.47058824, 0.32941176, 0.19607843],\n",
       "        [0.42745098, 0.28627451, 0.16470588]],\n",
       "\n",
       "       ...,\n",
       "\n",
       "       [[0.81568627, 0.66666667, 0.37647059],\n",
       "        [0.78823529, 0.6       , 0.13333333],\n",
       "        [0.77647059, 0.63137255, 0.10196078],\n",
       "        ...,\n",
       "        [0.62745098, 0.52156863, 0.2745098 ],\n",
       "        [0.21960784, 0.12156863, 0.02745098],\n",
       "        [0.20784314, 0.13333333, 0.07843137]],\n",
       "\n",
       "       [[0.70588235, 0.54509804, 0.37647059],\n",
       "        [0.67843137, 0.48235294, 0.16470588],\n",
       "        [0.72941176, 0.56470588, 0.11764706],\n",
       "        ...,\n",
       "        [0.72156863, 0.58039216, 0.36862745],\n",
       "        [0.38039216, 0.24313725, 0.13333333],\n",
       "        [0.3254902 , 0.20784314, 0.13333333]],\n",
       "\n",
       "       [[0.69411765, 0.56470588, 0.45490196],\n",
       "        [0.65882353, 0.50588235, 0.36862745],\n",
       "        [0.70196078, 0.55686275, 0.34117647],\n",
       "        ...,\n",
       "        [0.84705882, 0.72156863, 0.54901961],\n",
       "        [0.59215686, 0.4627451 , 0.32941176],\n",
       "        [0.48235294, 0.36078431, 0.28235294]]])"
      ]
     },
     "execution_count": 121,
     "metadata": {},
     "output_type": "execute_result"
    }
   ],
   "source": [
    "X_train_CIF[0, :, :]"
   ]
  },
  {
   "cell_type": "code",
   "execution_count": 38,
   "metadata": {},
   "outputs": [
    {
     "data": {
      "text/plain": [
       "<matplotlib.image.AxesImage at 0x285aece4610>"
      ]
     },
     "execution_count": 38,
     "metadata": {},
     "output_type": "execute_result"
    },
    {
     "data": {
      "image/png": "[encoded data removed]",
      "text/plain": [
       "<Figure size 432x288 with 1 Axes>"
      ]
     },
     "metadata": {
      "needs_background": "light"
     },
     "output_type": "display_data"
    }
   ],
   "source": [
    "plt.imshow(X_train_SVHN_RN_001[20,:, :])"
   ]
  },
  {
   "cell_type": "code",
   "execution_count": 39,
   "metadata": {},
   "outputs": [
    {
     "data": {
      "text/plain": [
       "<matplotlib.image.AxesImage at 0x28592429760>"
      ]
     },
     "execution_count": 39,
     "metadata": {},
     "output_type": "execute_result"
    },
    {
     "data": {
      "image/png": "[encoded data removed]",
      "text/plain": [
       "<Figure size 432x288 with 1 Axes>"
      ]
     },
     "metadata": {
      "needs_background": "light"
     },
     "output_type": "display_data"
    }
   ],
   "source": [
    "plt.imshow(X_train_SVHN_RN_0001[20, :, :])"
   ]
  },
  {
   "cell_type": "code",
   "execution_count": 40,
   "metadata": {},
   "outputs": [
    {
     "data": {
      "text/plain": [
       "<matplotlib.image.AxesImage at 0x285924849a0>"
      ]
     },
     "execution_count": 40,
     "metadata": {},
     "output_type": "execute_result"
    },
    {
     "data": {
      "image/png": "[encoded data removed]",
      "text/plain": [
       "<Figure size 432x288 with 1 Axes>"
      ]
     },
     "metadata": {
      "needs_background": "light"
     },
     "output_type": "display_data"
    }
   ],
   "source": [
    "plt.imshow(X_train_SVHN[20, :, :])"
   ]
  },
  {
   "cell_type": "code",
   "execution_count": 112,
   "metadata": {},
   "outputs": [
    {
     "data": {
      "text/plain": [
       "array([[[0.        , 0.34236082, 0.        ],\n",
       "        [0.        , 0.49305782, 0.        ],\n",
       "        [0.8214383 , 0.6030443 , 0.02111929],\n",
       "        ...,\n",
       "        [0.79512032, 0.14969808, 0.28352162],\n",
       "        [0.31752973, 0.01463475, 0.12492793],\n",
       "        [0.90253468, 0.078342  , 0.43855781]],\n",
       "\n",
       "       [[0.1616635 , 0.        , 0.24374666],\n",
       "        [0.        , 0.13441808, 0.        ],\n",
       "        [0.        , 0.3243216 , 0.25685179],\n",
       "        ...,\n",
       "        [0.81601194, 0.        , 0.01633585],\n",
       "        [0.62322285, 0.18402664, 0.28128031],\n",
       "        [0.49798841, 0.28656366, 0.49455101]],\n",
       "\n",
       "       [[0.60987648, 0.        , 0.        ],\n",
       "        [0.26427765, 0.29095406, 0.68537247],\n",
       "        [0.18757426, 0.22803376, 0.19613984],\n",
       "        ...,\n",
       "        [0.96807958, 0.34027595, 0.        ],\n",
       "        [0.28785578, 0.30751261, 0.58768286],\n",
       "        [0.7596096 , 0.42109057, 0.27151571]],\n",
       "\n",
       "       ...,\n",
       "\n",
       "       [[1.        , 0.03313582, 0.77737523],\n",
       "        [1.        , 0.97072272, 0.5579536 ],\n",
       "        [1.        , 1.        , 0.19318278],\n",
       "        ...,\n",
       "        [0.55319538, 0.56991237, 0.71010587],\n",
       "        [0.31561794, 0.        , 0.4826581 ],\n",
       "        [0.01806842, 0.01895051, 0.        ]],\n",
       "\n",
       "       [[0.41274537, 0.33508185, 0.25039172],\n",
       "        [1.        , 0.72592545, 0.13646277],\n",
       "        [0.62573986, 0.01989438, 0.        ],\n",
       "        ...,\n",
       "        [0.94549206, 0.63637493, 0.        ],\n",
       "        [0.29516813, 0.71506028, 0.41953875],\n",
       "        [0.        , 0.32451621, 0.09998369]],\n",
       "\n",
       "       [[0.4633479 , 0.9387998 , 0.44539369],\n",
       "        [0.36704428, 0.18982537, 0.18861833],\n",
       "        [0.79690946, 0.3645992 , 0.29149406],\n",
       "        ...,\n",
       "        [1.        , 1.        , 0.48970678],\n",
       "        [0.79648918, 0.        , 0.37839139],\n",
       "        [0.66187063, 0.10577045, 0.39819802]]])"
      ]
     },
     "execution_count": 112,
     "metadata": {},
     "output_type": "execute_result"
    }
   ],
   "source": [
    "random_noise(X_train_CIF[0, :, :], mode='gaussian', var=0.1)"
   ]
  },
  {
   "cell_type": "code",
   "execution_count": 41,
   "metadata": {},
   "outputs": [
    {
     "data": {
      "text/plain": [
       "<matplotlib.image.AxesImage at 0x285924decd0>"
      ]
     },
     "execution_count": 41,
     "metadata": {},
     "output_type": "execute_result"
    },
    {
     "data": {
      "image/png": "[encoded data removed]",
      "text/plain": [
       "<Figure size 432x288 with 1 Axes>"
      ]
     },
     "metadata": {
      "needs_background": "light"
     },
     "output_type": "display_data"
    }
   ],
   "source": [
    "plt.imshow(random_noise(X_train_CIF[0, :, :], mode='gaussian', var=0.01), cmap='gray')"
   ]
  },
  {
   "cell_type": "markdown",
   "metadata": {},
   "source": [
    "# Questão 4"
   ]
  },
  {
   "cell_type": "code",
   "execution_count": 42,
   "metadata": {},
   "outputs": [],
   "source": [
    "model.compile(\n",
    "    loss='categorical_crossentropy',\n",
    "    optimizer='adam',\n",
    "    metrics=['accuracy']\n",
    ")"
   ]
  },
  {
   "cell_type": "markdown",
   "metadata": {},
   "source": [
    "## Treinando modelos para a base CIFAR-10"
   ]
  },
  {
   "cell_type": "code",
   "execution_count": 98,
   "metadata": {},
   "outputs": [],
   "source": [
    "y_train_CIF = to_categorical(y_train_CIF)\n",
    "y_test_CIF = to_categorical(y_test_CIF)"
   ]
  },
  {
   "cell_type": "code",
   "execution_count": 160,
   "metadata": {},
   "outputs": [
    {
     "name": "stdout",
     "output_type": "stream",
     "text": [
      "Epoch 1/10\n",
      "1563/1563 [==============================] - 36s 23ms/step - loss: 1.7990 - accuracy: 0.3479\n",
      "Epoch 2/10\n",
      "1563/1563 [==============================] - 34s 22ms/step - loss: 1.3638 - accuracy: 0.51240s - loss:\n",
      "Epoch 3/10\n",
      "1563/1563 [==============================] - 34s 22ms/step - loss: 1.2152 - accuracy: 0.5673\n",
      "Epoch 4/10\n",
      "1563/1563 [==============================] - 35s 22ms/step - loss: 1.1130 - accuracy: 0.6057\n",
      "Epoch 5/10\n",
      "1563/1563 [==============================] - 35s 22ms/step - loss: 1.0370 - accuracy: 0.6323\n",
      "Epoch 6/10\n",
      "1563/1563 [==============================] - 35s 22ms/step - loss: 0.9849 - accuracy: 0.6501\n",
      "Epoch 7/10\n",
      "1563/1563 [==============================] - 35s 22ms/step - loss: 0.9404 - accuracy: 0.6701\n",
      "Epoch 8/10\n",
      "1563/1563 [==============================] - 35s 23ms/step - loss: 0.9033 - accuracy: 0.6821\n",
      "Epoch 9/10\n",
      "1563/1563 [==============================] - 39s 25ms/step - loss: 0.8697 - accuracy: 0.6942\n",
      "Epoch 10/10\n",
      "1563/1563 [==============================] - 38s 24ms/step - loss: 0.8450 - accuracy: 0.7007\n"
     ]
    },
    {
     "data": {
      "text/plain": [
       "<tensorflow.python.keras.callbacks.History at 0x28593186a90>"
      ]
     },
     "execution_count": 160,
     "metadata": {},
     "output_type": "execute_result"
    }
   ],
   "source": [
    "model.fit(\n",
    "    X_train_CIF, y_train_CIF,    \n",
    "    epochs=10,\n",
    "    verbose=1)"
   ]
  },
  {
   "cell_type": "code",
   "execution_count": 161,
   "metadata": {},
   "outputs": [
    {
     "name": "stdout",
     "output_type": "stream",
     "text": [
      "INFO:tensorflow:Assets written to: CNN_train_CIF_NORMAL\\assets\n"
     ]
    }
   ],
   "source": [
    "model.save('CNN_train_CIF_NORMAL')"
   ]
  },
  {
   "cell_type": "code",
   "execution_count": 162,
   "metadata": {},
   "outputs": [
    {
     "name": "stdout",
     "output_type": "stream",
     "text": [
      "Epoch 1/10\n",
      "1563/1563 [==============================] - 36s 23ms/step - loss: 0.8511 - accuracy: 0.69900s - loss:\n",
      "Epoch 2/10\n",
      "1563/1563 [==============================] - 37s 24ms/step - loss: 0.8250 - accuracy: 0.7099\n",
      "Epoch 3/10\n",
      "1563/1563 [==============================] - 41s 26ms/step - loss: 0.8046 - accuracy: 0.7164\n",
      "Epoch 4/10\n",
      "1563/1563 [==============================] - 41s 26ms/step - loss: 0.7829 - accuracy: 0.7225\n",
      "Epoch 5/10\n",
      "1563/1563 [==============================] - 37s 23ms/step - loss: 0.7658 - accuracy: 0.7271\n",
      "Epoch 6/10\n",
      "1563/1563 [==============================] - 40s 25ms/step - loss: 0.7482 - accuracy: 0.7355\n",
      "Epoch 7/10\n",
      "1563/1563 [==============================] - 42s 27ms/step - loss: 0.7303 - accuracy: 0.7424\n",
      "Epoch 8/10\n",
      "1563/1563 [==============================] - 38s 24ms/step - loss: 0.7201 - accuracy: 0.7463\n",
      "Epoch 9/10\n",
      "1563/1563 [==============================] - 38s 24ms/step - loss: 0.7095 - accuracy: 0.7479\n",
      "Epoch 10/10\n",
      "1563/1563 [==============================] - 34s 22ms/step - loss: 0.6914 - accuracy: 0.7539\n"
     ]
    },
    {
     "data": {
      "text/plain": [
       "<tensorflow.python.keras.callbacks.History at 0x286465b6940>"
      ]
     },
     "execution_count": 162,
     "metadata": {},
     "output_type": "execute_result"
    }
   ],
   "source": [
    "model.fit(\n",
    "    X_train_CIF_RN_0001, y_train_CIF,    \n",
    "    epochs=10,\n",
    "    verbose=1)"
   ]
  },
  {
   "cell_type": "code",
   "execution_count": 163,
   "metadata": {},
   "outputs": [
    {
     "name": "stdout",
     "output_type": "stream",
     "text": [
      "INFO:tensorflow:Assets written to: CNN_train_CIF_0001\\assets\n"
     ]
    }
   ],
   "source": [
    "model.save('CNN_train_CIF_0001')"
   ]
  },
  {
   "cell_type": "code",
   "execution_count": 164,
   "metadata": {},
   "outputs": [
    {
     "name": "stdout",
     "output_type": "stream",
     "text": [
      "Epoch 1/10\n",
      "1563/1563 [==============================] - 34s 22ms/step - loss: 0.9477 - accuracy: 0.6614\n",
      "Epoch 2/10\n",
      "1563/1563 [==============================] - 34s 22ms/step - loss: 0.8883 - accuracy: 0.6830\n",
      "Epoch 3/10\n",
      "1563/1563 [==============================] - 35s 23ms/step - loss: 0.8565 - accuracy: 0.6943\n",
      "Epoch 4/10\n",
      "1563/1563 [==============================] - 38s 24ms/step - loss: 0.8364 - accuracy: 0.70050s - loss: 0.8\n",
      "Epoch 5/10\n",
      "1563/1563 [==============================] - 40s 25ms/step - loss: 0.8141 - accuracy: 0.70972s - loss: 0\n",
      "Epoch 6/10\n",
      "1563/1563 [==============================] - 40s 26ms/step - loss: 0.7921 - accuracy: 0.7150\n",
      "Epoch 7/10\n",
      "1563/1563 [==============================] - 39s 25ms/step - loss: 0.7768 - accuracy: 0.7217\n",
      "Epoch 8/10\n",
      "1563/1563 [==============================] - 37s 24ms/step - loss: 0.7626 - accuracy: 0.7274\n",
      "Epoch 9/10\n",
      "1563/1563 [==============================] - 38s 24ms/step - loss: 0.7491 - accuracy: 0.7328\n",
      "Epoch 10/10\n",
      "1563/1563 [==============================] - 41s 26ms/step - loss: 0.7365 - accuracy: 0.7376\n"
     ]
    },
    {
     "data": {
      "text/plain": [
       "<tensorflow.python.keras.callbacks.History at 0x28592d08100>"
      ]
     },
     "execution_count": 164,
     "metadata": {},
     "output_type": "execute_result"
    }
   ],
   "source": [
    "model.fit(\n",
    "    X_train_CIF_RN_001, y_train_CIF,    \n",
    "    epochs=10,\n",
    "    verbose=1)"
   ]
  },
  {
   "cell_type": "code",
   "execution_count": 165,
   "metadata": {},
   "outputs": [
    {
     "name": "stdout",
     "output_type": "stream",
     "text": [
      "INFO:tensorflow:Assets written to: CNN_train_CIF_001\\assets\n"
     ]
    }
   ],
   "source": [
    "model.save('CNN_train_CIF_001')"
   ]
  },
  {
   "cell_type": "markdown",
   "metadata": {},
   "source": [
    "## Treinando modelos para a base SVHN"
   ]
  },
  {
   "cell_type": "code",
   "execution_count": 102,
   "metadata": {},
   "outputs": [],
   "source": [
    "lb = LabelBinarizer()\n",
    "y_train_SVHN = lb.fit_transform(y_train_SVHN)\n",
    "y_test_SVHN = lb.fit_transform(y_test_SVHN)"
   ]
  },
  {
   "cell_type": "code",
   "execution_count": 105,
   "metadata": {},
   "outputs": [
    {
     "name": "stdout",
     "output_type": "stream",
     "text": [
      "Epoch 1/10\n",
      "2290/2290 [==============================] - 56s 24ms/step - loss: 0.8613 - accuracy: 0.7241\n",
      "Epoch 2/10\n",
      "2290/2290 [==============================] - 52s 23ms/step - loss: 0.4748 - accuracy: 0.8561\n",
      "Epoch 3/10\n",
      "2290/2290 [==============================] - 52s 23ms/step - loss: 0.3971 - accuracy: 0.8813\n",
      "Epoch 4/10\n",
      "2290/2290 [==============================] - 54s 24ms/step - loss: 0.3535 - accuracy: 0.8943\n",
      "Epoch 5/10\n",
      "2290/2290 [==============================] - 53s 23ms/step - loss: 0.3283 - accuracy: 0.9017\n",
      "Epoch 6/10\n",
      "2290/2290 [==============================] - 52s 23ms/step - loss: 0.3034 - accuracy: 0.9092\n",
      "Epoch 7/10\n",
      "2290/2290 [==============================] - 52s 23ms/step - loss: 0.2867 - accuracy: 0.9140\n",
      "Epoch 8/10\n",
      "2290/2290 [==============================] - 51s 22ms/step - loss: 0.2716 - accuracy: 0.9186\n",
      "Epoch 9/10\n",
      "2290/2290 [==============================] - 53s 23ms/step - loss: 0.2590 - accuracy: 0.92190s - loss: 0.2591 - accuracy: \n",
      "Epoch 10/10\n",
      "2290/2290 [==============================] - 52s 23ms/step - loss: 0.2508 - accuracy: 0.9260\n"
     ]
    },
    {
     "data": {
      "text/plain": [
       "<tensorflow.python.keras.callbacks.History at 0x2859bc93c40>"
      ]
     },
     "execution_count": 105,
     "metadata": {},
     "output_type": "execute_result"
    }
   ],
   "source": [
    "model.fit(\n",
    "    X_train_SVHN, y_train_SVHN,    \n",
    "    epochs=10,\n",
    "    verbose=1)"
   ]
  },
  {
   "cell_type": "code",
   "execution_count": 106,
   "metadata": {},
   "outputs": [
    {
     "name": "stdout",
     "output_type": "stream",
     "text": [
      "WARNING:tensorflow:From C:\\Users\\dougl\\anaconda3\\lib\\site-packages\\tensorflow\\python\\training\\tracking\\tracking.py:111: Model.state_updates (from tensorflow.python.keras.engine.training) is deprecated and will be removed in a future version.\n",
      "Instructions for updating:\n",
      "This property should not be used in TensorFlow 2.0, as updates are applied automatically.\n",
      "WARNING:tensorflow:From C:\\Users\\dougl\\anaconda3\\lib\\site-packages\\tensorflow\\python\\training\\tracking\\tracking.py:111: Layer.updates (from tensorflow.python.keras.engine.base_layer) is deprecated and will be removed in a future version.\n",
      "Instructions for updating:\n",
      "This property should not be used in TensorFlow 2.0, as updates are applied automatically.\n",
      "INFO:tensorflow:Assets written to: CNN_train_SVHN_NORMAL\\assets\n"
     ]
    }
   ],
   "source": [
    "model.save('CNN_train_SVHN_NORMAL')"
   ]
  },
  {
   "cell_type": "code",
   "execution_count": 108,
   "metadata": {},
   "outputs": [
    {
     "name": "stdout",
     "output_type": "stream",
     "text": [
      "Epoch 1/10\n",
      "2290/2290 [==============================] - 53s 23ms/step - loss: 0.2828 - accuracy: 0.9128\n",
      "Epoch 2/10\n",
      "2290/2290 [==============================] - 52s 23ms/step - loss: 0.2654 - accuracy: 0.9193\n",
      "Epoch 3/10\n",
      "2290/2290 [==============================] - 52s 23ms/step - loss: 0.2537 - accuracy: 0.9229\n",
      "Epoch 4/10\n",
      "2290/2290 [==============================] - 54s 24ms/step - loss: 0.2427 - accuracy: 0.9261\n",
      "Epoch 5/10\n",
      "2290/2290 [==============================] - 52s 23ms/step - loss: 0.2352 - accuracy: 0.9277\n",
      "Epoch 6/10\n",
      "2290/2290 [==============================] - 52s 23ms/step - loss: 0.2289 - accuracy: 0.9298\n",
      "Epoch 7/10\n",
      "2290/2290 [==============================] - 57s 25ms/step - loss: 0.2205 - accuracy: 0.9319\n",
      "Epoch 8/10\n",
      "2290/2290 [==============================] - 58s 25ms/step - loss: 0.2149 - accuracy: 0.93330s - loss: 0.2147 - accuracy: \n",
      "Epoch 9/10\n",
      "2290/2290 [==============================] - 61s 26ms/step - loss: 0.2069 - accuracy: 0.9358\n",
      "Epoch 10/10\n",
      "2290/2290 [==============================] - 56s 24ms/step - loss: 0.2051 - accuracy: 0.9361\n"
     ]
    },
    {
     "data": {
      "text/plain": [
       "<tensorflow.python.keras.callbacks.History at 0x2864512ea00>"
      ]
     },
     "execution_count": 108,
     "metadata": {},
     "output_type": "execute_result"
    }
   ],
   "source": [
    "model.fit(\n",
    "    X_train_SVHN_RN_0001, y_train_SVHN,    \n",
    "    epochs=10,\n",
    "    verbose=1)"
   ]
  },
  {
   "cell_type": "code",
   "execution_count": 109,
   "metadata": {},
   "outputs": [
    {
     "name": "stdout",
     "output_type": "stream",
     "text": [
      "INFO:tensorflow:Assets written to: CNN_train_SVHN_0001\\assets\n"
     ]
    }
   ],
   "source": [
    "model.save('CNN_train_SVHN_0001')"
   ]
  },
  {
   "cell_type": "code",
   "execution_count": 110,
   "metadata": {},
   "outputs": [
    {
     "name": "stdout",
     "output_type": "stream",
     "text": [
      "Epoch 1/10\n",
      "2290/2290 [==============================] - 56s 24ms/step - loss: 0.4522 - accuracy: 0.8558\n",
      "Epoch 2/10\n",
      "2290/2290 [==============================] - 54s 24ms/step - loss: 0.3938 - accuracy: 0.8740\n",
      "Epoch 3/10\n",
      "2290/2290 [==============================] - 59s 26ms/step - loss: 0.3661 - accuracy: 0.8846\n",
      "Epoch 4/10\n",
      "2290/2290 [==============================] - 60s 26ms/step - loss: 0.3512 - accuracy: 0.8884\n",
      "Epoch 5/10\n",
      "2290/2290 [==============================] - 61s 26ms/step - loss: 0.3382 - accuracy: 0.8914\n",
      "Epoch 6/10\n",
      "2290/2290 [==============================] - 52s 23ms/step - loss: 0.3255 - accuracy: 0.8958\n",
      "Epoch 7/10\n",
      "2290/2290 [==============================] - 57s 25ms/step - loss: 0.3158 - accuracy: 0.8992\n",
      "Epoch 8/10\n",
      "2290/2290 [==============================] - 62s 27ms/step - loss: 0.3074 - accuracy: 0.9015\n",
      "Epoch 9/10\n",
      "2290/2290 [==============================] - 62s 27ms/step - loss: 0.2949 - accuracy: 0.9061\n",
      "Epoch 10/10\n",
      "2290/2290 [==============================] - 62s 27ms/step - loss: 0.2906 - accuracy: 0.9070\n"
     ]
    },
    {
     "data": {
      "text/plain": [
       "<tensorflow.python.keras.callbacks.History at 0x2859bc7bfd0>"
      ]
     },
     "execution_count": 110,
     "metadata": {},
     "output_type": "execute_result"
    }
   ],
   "source": [
    "model.fit(\n",
    "     X_train_SVHN_RN_001, y_train_SVHN,    \n",
    "    epochs=10,\n",
    "    verbose=1)"
   ]
  },
  {
   "cell_type": "code",
   "execution_count": 111,
   "metadata": {},
   "outputs": [
    {
     "name": "stdout",
     "output_type": "stream",
     "text": [
      "INFO:tensorflow:Assets written to: CNN_train_SVHN_001\\assets\n"
     ]
    }
   ],
   "source": [
    "model.save('CNN_train_SVHN_001')"
   ]
  },
  {
   "cell_type": "markdown",
   "metadata": {},
   "source": [
    "# Questão 5"
   ]
  },
  {
   "cell_type": "markdown",
   "metadata": {},
   "source": [
    "#### a) Calcular a acurácia dos modelos em todas as versões da base de teste. Por exemplo, para o modelo treinado com os dados de treinamento da CIFAR-10 original devemos computar sua acurácia nas bases de teste original, Gauss 0.001 e Gauss 0.01. Ou seja, para cada um dos modelos vamos computar 3 acurácias"
   ]
  },
  {
   "cell_type": "markdown",
   "metadata": {},
   "source": [
    "## CIFAR-10"
   ]
  },
  {
   "cell_type": "markdown",
   "metadata": {},
   "source": [
    "* Normal"
   ]
  },
  {
   "cell_type": "code",
   "execution_count": 138,
   "metadata": {},
   "outputs": [],
   "source": [
    "model = keras.models.load_model('CNN_train_CIF')"
   ]
  },
  {
   "cell_type": "code",
   "execution_count": 142,
   "metadata": {},
   "outputs": [
    {
     "name": "stdout",
     "output_type": "stream",
     "text": [
      "313/313 [==============================] - 3s 8ms/step - loss: 0.8808 - accuracy: 0.6943\n"
     ]
    },
    {
     "data": {
      "text/plain": [
       "[0.8808009624481201, 0.6942999958992004]"
      ]
     },
     "execution_count": 142,
     "metadata": {},
     "output_type": "execute_result"
    }
   ],
   "source": [
    "model.evaluate(X_test_CIF, y_test_CIF)"
   ]
  },
  {
   "cell_type": "markdown",
   "metadata": {},
   "source": [
    "* 0.01"
   ]
  },
  {
   "cell_type": "code",
   "execution_count": 143,
   "metadata": {},
   "outputs": [],
   "source": [
    "model = keras.models.load_model('CNN_train_CIF_0001')"
   ]
  },
  {
   "cell_type": "code",
   "execution_count": 144,
   "metadata": {},
   "outputs": [
    {
     "name": "stdout",
     "output_type": "stream",
     "text": [
      "313/313 [==============================] - 3s 8ms/step - loss: 0.9508 - accuracy: 0.6902\n"
     ]
    },
    {
     "data": {
      "text/plain": [
       "[0.9508273601531982, 0.6901999711990356]"
      ]
     },
     "execution_count": 144,
     "metadata": {},
     "output_type": "execute_result"
    }
   ],
   "source": [
    "model.evaluate(X_test_CIF, y_test_CIF)"
   ]
  },
  {
   "cell_type": "markdown",
   "metadata": {},
   "source": [
    "* 0.001"
   ]
  },
  {
   "cell_type": "code",
   "execution_count": 145,
   "metadata": {},
   "outputs": [],
   "source": [
    "model = keras.models.load_model('CNN_train_CIF_001')"
   ]
  },
  {
   "cell_type": "code",
   "execution_count": 146,
   "metadata": {},
   "outputs": [
    {
     "name": "stdout",
     "output_type": "stream",
     "text": [
      "313/313 [==============================] - 2s 7ms/step - loss: 1.2442 - accuracy: 0.6030\n"
     ]
    },
    {
     "data": {
      "text/plain": [
       "[1.244201898574829, 0.6029999852180481]"
      ]
     },
     "execution_count": 146,
     "metadata": {},
     "output_type": "execute_result"
    }
   ],
   "source": [
    "model.evaluate(X_test_CIF, y_test_CIF)"
   ]
  },
  {
   "cell_type": "markdown",
   "metadata": {},
   "source": [
    "## SVHN"
   ]
  },
  {
   "cell_type": "markdown",
   "metadata": {},
   "source": [
    "* Normal"
   ]
  },
  {
   "cell_type": "code",
   "execution_count": 149,
   "metadata": {},
   "outputs": [],
   "source": [
    "model = keras.models.load_model('CNN_train_SVHN_NORMAL')"
   ]
  },
  {
   "cell_type": "code",
   "execution_count": 155,
   "metadata": {},
   "outputs": [
    {
     "name": "stdout",
     "output_type": "stream",
     "text": [
      "814/814 [==============================] - 6s 8ms/step - loss: 0.3251 - accuracy: 0.9100\n"
     ]
    },
    {
     "data": {
      "text/plain": [
       "[0.3250719904899597, 0.9099953770637512]"
      ]
     },
     "execution_count": 155,
     "metadata": {},
     "output_type": "execute_result"
    }
   ],
   "source": [
    "model.evaluate(X_test_SVHN, y_test_SVHN)"
   ]
  },
  {
   "cell_type": "markdown",
   "metadata": {},
   "source": [
    "* 0.001"
   ]
  },
  {
   "cell_type": "code",
   "execution_count": 156,
   "metadata": {},
   "outputs": [],
   "source": [
    "model = keras.models.load_model('CNN_train_SVHN_0001')"
   ]
  },
  {
   "cell_type": "code",
   "execution_count": 157,
   "metadata": {},
   "outputs": [
    {
     "name": "stdout",
     "output_type": "stream",
     "text": [
      "814/814 [==============================] - 7s 8ms/step - loss: 0.3536 - accuracy: 0.9048\n"
     ]
    },
    {
     "data": {
      "text/plain": [
       "[0.3535562753677368, 0.9048478603363037]"
      ]
     },
     "execution_count": 157,
     "metadata": {},
     "output_type": "execute_result"
    }
   ],
   "source": [
    "model.evaluate(X_test_SVHN, y_test_SVHN)"
   ]
  },
  {
   "cell_type": "markdown",
   "metadata": {},
   "source": [
    "* 0.01"
   ]
  },
  {
   "cell_type": "code",
   "execution_count": 158,
   "metadata": {},
   "outputs": [],
   "source": [
    "model = keras.models.load_model('CNN_train_SVHN_001')"
   ]
  },
  {
   "cell_type": "code",
   "execution_count": 159,
   "metadata": {},
   "outputs": [
    {
     "name": "stdout",
     "output_type": "stream",
     "text": [
      "814/814 [==============================] - 6s 7ms/step - loss: 0.4001 - accuracy: 0.8944\n"
     ]
    },
    {
     "data": {
      "text/plain": [
       "[0.4001328945159912, 0.8943607807159424]"
      ]
     },
     "execution_count": 159,
     "metadata": {},
     "output_type": "execute_result"
    }
   ],
   "source": [
    "model.evaluate(X_test_SVHN, y_test_SVHN)"
   ]
  }
 ],
 "metadata": {
  "kernelspec": {
   "display_name": "Python 3",
   "language": "python",
   "name": "python3"
  },
  "language_info": {
   "codemirror_mode": {
    "name": "ipython",
    "version": 3
   },
   "file_extension": ".py",
   "mimetype": "text/x-python",
   "name": "python",
   "nbconvert_exporter": "python",
   "pygments_lexer": "ipython3",
   "version": "3.8.8"
  }
 },
 "nbformat": 4,
 "nbformat_minor": 2
}
